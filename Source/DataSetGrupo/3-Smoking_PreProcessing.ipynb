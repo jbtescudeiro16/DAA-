{
 "cells": [
  {
   "cell_type": "markdown",
   "metadata": {},
   "source": [
    "<center>\n",
    "  <h1 style=\"font-family: 'Times New Roman', Times, serif; font-size: 60px;\">DAA</h1>\n",
    "  <h2 style=\"font-family: 'Times New Roman', Times, serif; font-size: 40px;\">Pre-Processing</h2>\n",
    "</center>"
   ]
  },
  {
   "cell_type": "markdown",
   "metadata": {},
   "source": [
    "<h3 style=\"font-family: 'Times New Roman'\">Import Libraries</h3>"
   ]
  },
  {
   "cell_type": "code",
   "execution_count": 1,
   "metadata": {},
   "outputs": [],
   "source": [
    "# Import necessary libraries\n",
    "import pandas as pd              # Import pandas for data manipulation and analysis\n",
    "import numpy as np               # Import numpy for numerical computations\n",
    "import matplotlib.pyplot as plt  # Import matplotlib for data visualization\n",
    "import seaborn as sns            # Import seaborn for enhanced data visualization"
   ]
  },
  {
   "cell_type": "markdown",
   "metadata": {},
   "source": [
    "<h3 style=\"font-family: 'Times New Roman'\">Load Dataset After Data Exploration and Descriptive Statistics</h3>"
   ]
  },
  {
   "cell_type": "code",
   "execution_count": 2,
   "metadata": {},
   "outputs": [],
   "source": [
    "df = pd.read_csv('Files/Exploration_and_Stats_BeforePP/Smoking.csv')"
   ]
  },
  {
   "cell_type": "markdown",
   "metadata": {},
   "source": [
    "<h3 style=\"font-family: 'Times New Roman'\">Pre-Processing</h3>"
   ]
  },
  {
   "cell_type": "code",
   "execution_count": 3,
   "metadata": {},
   "outputs": [],
   "source": [
    "# Function to calculate BMI\n",
    "def get_bmi(row):\n",
    "    # Convert height from centimeters to meters\n",
    "    height_m = row[\"height\"] / 100\n",
    "    \n",
    "    # Calculate BMI\n",
    "    bmi = row[\"weight\"] / (height_m ** 2)\n",
    "    \n",
    "    return bmi\n",
    "\n",
    "# Add a new row named \"bmi\"\n",
    "df[\"bmi\"] = df.apply(get_bmi, axis=1)"
   ]
  },
  {
   "cell_type": "code",
   "execution_count": 4,
   "metadata": {},
   "outputs": [],
   "source": [
    "# https://my.clevelandclinic.org/health/diseases/17649-blood-pressure\n",
    "def classify_blood_pressure(row):\n",
    "    sbp = row[\"systolic_blood_pressure\"]\n",
    "    dbp = row[\"diastolic_blood_pressure\"]\n",
    "    if sbp < 120 and dbp < 80:\n",
    "        return \"Normal\"\n",
    "    elif sbp < 130 and dbp < 80:\n",
    "        return \"Elevated\"\n",
    "    elif sbp < 140 and dbp < 90:\n",
    "        return \"Hypertension Stage 1\"\n",
    "    elif sbp < 180 and dbp < 120:\n",
    "        return \"Hypertension Stage 2\"\n",
    "    else:\n",
    "        return \"Hypertensive Crisis\"\n",
    "    \n",
    "df['blood_pressure'] = df.apply(classify_blood_pressure, axis=1)"
   ]
  },
  {
   "cell_type": "code",
   "execution_count": 5,
   "metadata": {},
   "outputs": [],
   "source": [
    "def create_numerical_BP(row):\n",
    "    sbp = row[\"systolic_blood_pressure\"]\n",
    "    dbp = row[\"diastolic_blood_pressure\"]\n",
    "    \n",
    "    numerical_BP = sbp / dbp\n",
    "    \n",
    "    return numerical_BP\n",
    "\n",
    "df['numerical_BP'] = df.apply(create_numerical_BP, axis=1)"
   ]
  },
  {
   "cell_type": "code",
   "execution_count": 6,
   "metadata": {},
   "outputs": [],
   "source": [
    "# Filter the DataFrame 'df' to include only rows where the 'waistline' column is less than or equal to 200.\n",
    "df = df[(df['waistline'] <= 200)]"
   ]
  },
  {
   "cell_type": "code",
   "execution_count": 7,
   "metadata": {},
   "outputs": [
    {
     "data": {
      "text/plain": [
       "Index(['sex', 'height', 'weight', 'waistline', 'systolic_blood_pressure',\n",
       "       'diastolic_blood_pressure', 'HDL_cholesterol', 'triglyceride',\n",
       "       'hemoglobin', 'serum_creatinine', 'SGOT_ALT',\n",
       "       'gamma-glutamyl_transpeptidase', 'smoking_state', 'drinker_or_not',\n",
       "       'bmi', 'blood_pressure', 'numerical_BP'],\n",
       "      dtype='object')"
      ]
     },
     "execution_count": 7,
     "metadata": {},
     "output_type": "execute_result"
    }
   ],
   "source": [
    "df.columns"
   ]
  },
  {
   "cell_type": "code",
   "execution_count": 8,
   "metadata": {},
   "outputs": [],
   "source": [
    "df  = df[(df['HDL_cholesterol'] <= 175)]"
   ]
  },
  {
   "cell_type": "code",
   "execution_count": 9,
   "metadata": {},
   "outputs": [],
   "source": [
    "df  = df[(df['HDL_cholesterol'] >= 15)]"
   ]
  },
  {
   "cell_type": "code",
   "execution_count": 10,
   "metadata": {},
   "outputs": [],
   "source": [
    "df = df[(df['systolic_blood_pressure'] <= 200)]"
   ]
  },
  {
   "cell_type": "code",
   "execution_count": 11,
   "metadata": {},
   "outputs": [],
   "source": [
    "df = df[(df['diastolic_blood_pressure'] <= 150)]"
   ]
  },
  {
   "cell_type": "code",
   "execution_count": 12,
   "metadata": {},
   "outputs": [],
   "source": [
    "# df = df[(df['hemoglobin'] >= 5)]\n",
    "df = df[(df['hemoglobin'] >= 10)]"
   ]
  },
  {
   "cell_type": "code",
   "execution_count": 13,
   "metadata": {},
   "outputs": [],
   "source": [
    "# df = df[(df['serum_creatinine'] <= 3.5)]\n",
    "df = df[(df['serum_creatinine'] <= 1.25)]"
   ]
  },
  {
   "cell_type": "code",
   "execution_count": 14,
   "metadata": {},
   "outputs": [],
   "source": [
    "# df = df[(df['gamma-glutamyl_transpeptidase'] <= 900)]\n",
    "df = df[(df['gamma-glutamyl_transpeptidase'] <= 100)]"
   ]
  },
  {
   "cell_type": "code",
   "execution_count": 15,
   "metadata": {},
   "outputs": [],
   "source": [
    "filtro = (df['SGOT_ALT'] <= 800)\n",
    "df = df[filtro]"
   ]
  },
  {
   "cell_type": "markdown",
   "metadata": {},
   "source": [
    "<h3 style=\"font-family: 'Times New Roman'\">Save Dataset</h3>"
   ]
  },
  {
   "cell_type": "code",
   "execution_count": 16,
   "metadata": {},
   "outputs": [],
   "source": [
    "df = df.to_csv('Files/Pre_Processing/Smoking.csv', index = False)"
   ]
  }
 ],
 "metadata": {
  "kernelspec": {
   "display_name": "daa1",
   "language": "python",
   "name": "python3"
  },
  "language_info": {
   "codemirror_mode": {
    "name": "ipython",
    "version": 3
   },
   "file_extension": ".py",
   "mimetype": "text/x-python",
   "name": "python",
   "nbconvert_exporter": "python",
   "pygments_lexer": "ipython3",
   "version": "3.11.5"
  }
 },
 "nbformat": 4,
 "nbformat_minor": 2
}
