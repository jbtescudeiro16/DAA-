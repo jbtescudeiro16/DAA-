{
 "cells": [
  {
   "cell_type": "markdown",
   "metadata": {},
   "source": [
    "<center>\n",
    "  <h1 style=\"font-family: 'Times New Roman', Times, serif; font-size: 60px;\">DAA</h1>\n",
    "  <h2 style=\"font-family: 'Times New Roman', Times, serif; font-size: 40px;\">Drinking Pre-Processing</h2>\n",
    "</center>"
   ]
  },
  {
   "cell_type": "markdown",
   "metadata": {},
   "source": [
    "<h3 style=\"font-family: 'Times New Roman'\">Import Libraries</h3>"
   ]
  },
  {
   "cell_type": "code",
   "execution_count": 407,
   "metadata": {},
   "outputs": [],
   "source": [
    "# Import necessary libraries\n",
    "import pandas as pd              # Import pandas for data manipulation and analysis"
   ]
  },
  {
   "cell_type": "markdown",
   "metadata": {},
   "source": [
    "<h3 style=\"font-family: 'Times New Roman'\">Load Dataset After Data Exploration and Descriptive Statistics</h3>"
   ]
  },
  {
   "cell_type": "code",
   "execution_count": 408,
   "metadata": {},
   "outputs": [],
   "source": [
    "# Read data from the CSV file 'Drinking.csv' in the 'Files/Exploration_and_Stats_BeforePP' directory\n",
    "df = pd.read_csv('Files/Exploration_and_Stats_BeforePP/Drinking.csv')"
   ]
  },
  {
   "cell_type": "markdown",
   "metadata": {},
   "source": [
    "<h3 style=\"font-family: 'Times New Roman'\">Pre-Processing</h3>"
   ]
  },
  {
   "cell_type": "code",
   "execution_count": 409,
   "metadata": {},
   "outputs": [],
   "source": [
    "# Function to calculate BMI\n",
    "def get_bmi(row):\n",
    "    # Convert height from centimeters to meters\n",
    "    height_m = row[\"height\"] / 100\n",
    "    \n",
    "    # Calculate BMI\n",
    "    bmi = row[\"weight\"] / (height_m ** 2)\n",
    "    \n",
    "    return bmi\n",
    "\n",
    "# Add a new row named \"bmi\"\n",
    "df[\"bmi\"] = df.apply(get_bmi, axis=1)"
   ]
  },
  {
   "cell_type": "code",
   "execution_count": 410,
   "metadata": {},
   "outputs": [],
   "source": [
    "def classify_eyesight_left(row):\n",
    "    val = row['sight_left']\n",
    "    \n",
    "    if 1 < val < 5: # > 20/20 eyesight\n",
    "        return \"Good\"\n",
    "    elif val > 0.5:  # > 20/40 eyesight\n",
    "        return \"Average\"\n",
    "    elif val > 0.25:  # > 20/80 eyesight\n",
    "        return \"Poor\"\n",
    "    else:\n",
    "        return \"Very Poor\"\n",
    "\n",
    "# Apply the classification function to each row in the DataFrame for 'sight_left'\n",
    "df['eye_sight_left'] = df.apply(classify_eyesight_left, axis=1)\n",
    "\n",
    "def classify_eyesight_right(row):\n",
    "    val = row['sight_right']\n",
    "    \n",
    "    if 1 < val < 5:  # > 20/20 eyesight\n",
    "        return \"Good\"\n",
    "    elif val > 0.5:  # > 20/40 eyesight\n",
    "        return \"Average\"\n",
    "    elif val > 0.25:  # > 20/80 eyesight\n",
    "        return \"Poor\"\n",
    "    else:\n",
    "        return \"Very Poor\"\n",
    "\n",
    "# Apply the classification function to each row in the DataFrame for 'sight_right'\n",
    "df['eye_sight_right'] = df.apply(classify_eyesight_right, axis=1)"
   ]
  },
  {
   "cell_type": "code",
   "execution_count": 411,
   "metadata": {},
   "outputs": [],
   "source": [
    "# Filter the DataFrame 'df' to include only rows where the 'waistline' column is less than or equal to 200.\n",
    "df = df[(df['waistline'] <= 200)]"
   ]
  },
  {
   "cell_type": "code",
   "execution_count": 412,
   "metadata": {},
   "outputs": [],
   "source": [
    "# Update the 'sight_left' and 'sight_right' columns in the DataFrame.\n",
    "# Replace a value of 9.9 with 0 to represent blindness, where:\n",
    "# - 0.1 is considered bad eyesight,\n",
    "# - 1.0 is considered average eyesight,\n",
    "# - 2.0 is considered perfect eyesight.\n",
    "df['sight_left'] = df['sight_left'].replace(9.9, 0)\n",
    "df['sight_right'] = df['sight_right'].replace(9.9, 0)"
   ]
  },
  {
   "cell_type": "code",
   "execution_count": 413,
   "metadata": {},
   "outputs": [],
   "source": [
    "df = df[(df['diastolic_blood_pressure'] <= 150)]"
   ]
  },
  {
   "cell_type": "code",
   "execution_count": 414,
   "metadata": {},
   "outputs": [],
   "source": [
    "df = df[(df['hemoglobin'] >= 10)]"
   ]
  },
  {
   "cell_type": "code",
   "execution_count": 416,
   "metadata": {},
   "outputs": [],
   "source": [
    "df = df[(df['serum_creatinine'] <= 1.5)]"
   ]
  },
  {
   "cell_type": "code",
   "execution_count": 417,
   "metadata": {},
   "outputs": [],
   "source": [
    "df = df[(df['gamma-glutamyl_transpeptidase'] <= 600)]"
   ]
  },
  {
   "cell_type": "markdown",
   "metadata": {},
   "source": [
    "<h3 style=\"font-family: 'Times New Roman'\">Save Dataset</h3>"
   ]
  },
  {
   "cell_type": "code",
   "execution_count": 426,
   "metadata": {},
   "outputs": [],
   "source": [
    "# Save the DataFrame 'df' to a CSV file named 'Drinking.csv' in the 'Files/Pre_Processing' directory\n",
    "df = df.to_csv('Files/Pre_Processing/Drinking.csv', index = False)"
   ]
  }
 ],
 "metadata": {
  "kernelspec": {
   "display_name": "daa1",
   "language": "python",
   "name": "python3"
  },
  "language_info": {
   "codemirror_mode": {
    "name": "ipython",
    "version": 3
   },
   "file_extension": ".py",
   "mimetype": "text/x-python",
   "name": "python",
   "nbconvert_exporter": "python",
   "pygments_lexer": "ipython3",
   "version": "3.11.5"
  }
 },
 "nbformat": 4,
 "nbformat_minor": 2
}
