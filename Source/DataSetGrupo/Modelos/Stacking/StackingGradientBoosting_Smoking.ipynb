{
 "cells": [
  {
   "cell_type": "markdown",
   "metadata": {},
   "source": [
    "<center>\n",
    "<h1 style=\"font-family: 'Times New Roman', Times, serif; font-size: 60px;\">DAA</h1>\n",
    "<h2 style=\"font-family: 'Times New Roman', Times, serif; font-size: 40px;\">Stacking GradientBoosting</h2>\n",
    "</center>\n",
    "\n",
    "<font face=\"Times New Roman\">"
   ]
  },
  {
   "cell_type": "markdown",
   "metadata": {},
   "source": [
    "<h3 style=\"font-family: 'Times New Roman'\">Imports</h3>"
   ]
  },
  {
   "cell_type": "code",
   "execution_count": 1,
   "metadata": {},
   "outputs": [],
   "source": [
    "# Import necessary libraries\n",
    "import pandas as pd                                                                                 # For data manipulation and analysis\n",
    "import matplotlib.pyplot as plt                                                                     # For data visualization\n",
    "from sklearn.model_selection import cross_val_score                                                 # For cross-validation\n",
    "import os                                                                                           # For interacting with the operating system\n",
    "from sklearn.preprocessing import LabelEncoder                                                    # For encoding categorical variables\n",
    "from sklearn.ensemble import StackingClassifier                                                     # For building a stacked ensemble model\n",
    "from sklearn.ensemble import GradientBoostingClassifier, ExtraTreesClassifier                        # For using Gradient Boosting and Extra Trees classifiers\n",
    "from xgboost import XGBClassifier                                                                   # For using XGBoost classifier\n",
    "from sklearn.model_selection import cross_val_score                                                # For cross-validation of models\n",
    "from sklearn.model_selection import KFold                                                          # For K-fold cross-validation\n",
    "from sklearn.ensemble import GradientBoostingClassifier                                            # Import the GradientBoostingClassifier"
   ]
  },
  {
   "cell_type": "markdown",
   "metadata": {},
   "source": [
    "<h3 style=\"font-family: 'Times New Roman'\">Load Dataset Smoking</h3>"
   ]
  },
  {
   "cell_type": "code",
   "execution_count": 2,
   "metadata": {},
   "outputs": [
    {
     "name": "stdout",
     "output_type": "stream",
     "text": [
      "Directory: c:\\Users\\afons\\OneDrive\\Ambiente de Trabalho\\4o Ano\\DAA\\Projeto\\DAA\\Source\\DataSetGrupo\\Modelos\\Stacking\n",
      "Updated Working Directory: c:\\Users\\afons\\OneDrive\\Ambiente de Trabalho\\4o Ano\\DAA\\Projeto\\DAA\\Source\\DataSetGrupo\n"
     ]
    }
   ],
   "source": [
    "print(\"Directory:\", os.getcwd())\n",
    "os.chdir(os.path.join(os.getcwd(), '..'))\n",
    "os.chdir(os.path.join(os.getcwd(), '..'))\n",
    "\n",
    "print(\"Updated Working Directory:\", os.getcwd())"
   ]
  },
  {
   "cell_type": "markdown",
   "metadata": {},
   "source": [
    "<h3 style=\"font-family: 'Times New Roman'\">GradientBoosting</h3>"
   ]
  },
  {
   "cell_type": "code",
   "execution_count": 3,
   "metadata": {},
   "outputs": [],
   "source": [
    "df = pd.read_csv(\"Files/Models/Smoking.csv\")"
   ]
  },
  {
   "cell_type": "code",
   "execution_count": 4,
   "metadata": {},
   "outputs": [],
   "source": [
    "X_smoking = df.drop(['smoking_state'], axis=1)\n",
    "y_smoking = df['smoking_state']"
   ]
  },
  {
   "cell_type": "code",
   "execution_count": 5,
   "metadata": {},
   "outputs": [
    {
     "name": "stdout",
     "output_type": "stream",
     "text": [
      "Cross-validated Accuracy of the Stacking Model: 80.68%\n"
     ]
    }
   ],
   "source": [
    "# Define base models\n",
    "et_model = ExtraTreesClassifier(random_state=2026, n_estimators=900, max_depth=10, min_samples_leaf=2, criterion='entropy', min_samples_split=5)\n",
    "xgb_model = XGBClassifier(random_state=2027, learning_rate=0.001, n_estimators=1000, max_depth=5, min_child_weight=5)\n",
    "\n",
    "# Define the stacking classifier with the chosen models as base estimators\n",
    "stacking_model = StackingClassifier(\n",
    "    estimators=[('xgb', xgb_model), ('et', et_model)],\n",
    "    final_estimator=GradientBoostingClassifier(random_state=2025, n_estimators=500, learning_rate=0.01, max_depth=5, min_samples_split=2),\n",
    "    cv=KFold(n_splits=10, shuffle=True)\n",
    ")\n",
    "\n",
    "# Calculate cross-validated accuracy for the stacking model\n",
    "stacking_cross_val_accuracy = cross_val_score(stacking_model, X_smoking, y_smoking, cv=10, scoring='accuracy')\n",
    "\n",
    "# Print the cross-validated accuracy\n",
    "print(\"Cross-validated Accuracy of the Stacking Model: {:.2f}%\".format(stacking_cross_val_accuracy.mean() * 100))"
   ]
  },
  {
   "cell_type": "code",
   "execution_count": 6,
   "metadata": {},
   "outputs": [
    {
     "name": "stdout",
     "output_type": "stream",
     "text": [
      "Updated Working Directory: c:\\Users\\afons\\OneDrive\\Ambiente de Trabalho\\4o Ano\\DAA\\Projeto\\DAA\\Source\\DataSetGrupo\\Modelos\\Stacking\n"
     ]
    }
   ],
   "source": [
    "name = \"Stacking\"\n",
    "\n",
    "os.chdir(os.path.join(os.getcwd(), 'Modelos'))\n",
    "os.chdir(os.path.join(os.getcwd(), name))\n",
    "\n",
    "print(\"Updated Working Directory:\", os.getcwd())"
   ]
  }
 ],
 "metadata": {
  "kernelspec": {
   "display_name": "daa1",
   "language": "python",
   "name": "python3"
  },
  "language_info": {
   "codemirror_mode": {
    "name": "ipython",
    "version": 3
   },
   "file_extension": ".py",
   "mimetype": "text/x-python",
   "name": "python",
   "nbconvert_exporter": "python",
   "pygments_lexer": "ipython3",
   "version": "3.11.5"
  }
 },
 "nbformat": 4,
 "nbformat_minor": 2
}
