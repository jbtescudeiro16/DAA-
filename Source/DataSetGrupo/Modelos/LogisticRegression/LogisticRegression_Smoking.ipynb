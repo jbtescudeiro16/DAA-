{
 "cells": [
  {
   "cell_type": "markdown",
   "metadata": {},
   "source": [
    "<center>\n",
    "<h1 style=\"font-family: 'Times New Roman', Times, serif; font-size: 60px;\">DAA</h1>\n",
    "<h2 style=\"font-family: 'Times New Roman', Times, serif; font-size: 40px;\">LogisticRegression for Smoking</h2>\n",
    "</center\n",
    "\n",
    "<font face=\"Times New Roman\">"
   ]
  },
  {
   "cell_type": "markdown",
   "metadata": {},
   "source": [
    "<h3 style=\"font-family: 'Times New Roman'\">Imports</h3>"
   ]
  },
  {
   "cell_type": "code",
   "execution_count": 22,
   "metadata": {},
   "outputs": [],
   "source": [
    "import pandas as pd                                                  # Import pandas for data manipulation and analysis\n",
    "from sklearn.linear_model import LogisticRegression                  # Import the LogisticRegression\n",
    "from sklearn.metrics import accuracy_score                           # Import accuracy_score for evaluating model performance\n",
    "from sklearn.model_selection import GridSearchCV                     # Import GridSearchCV for hyperparameter tuning\n",
    "from sklearn.metrics import make_scorer, accuracy_score              # Import make_scorer and accuracy_score for custom scoring\n",
    "import os                                                            # Import os for interacting with the operating system"
   ]
  },
  {
   "cell_type": "markdown",
   "metadata": {},
   "source": [
    "<h3 style=\"font-family: 'Times New Roman'\">Load Dataset Smoking</h3>"
   ]
  },
  {
   "cell_type": "code",
   "execution_count": 23,
   "metadata": {},
   "outputs": [
    {
     "name": "stdout",
     "output_type": "stream",
     "text": [
      "Directory: c:\\Users\\afons\\OneDrive\\Ambiente de Trabalho\\4o Ano\\DAA\\Projeto\\DAA\\Source\\DataSetGrupo\\Modelos\\LogisticRegression\n",
      "Updated Working Directory: c:\\Users\\afons\\OneDrive\\Ambiente de Trabalho\\4o Ano\\DAA\\Projeto\\DAA\\Source\\DataSetGrupo\n"
     ]
    }
   ],
   "source": [
    "print(\"Directory:\", os.getcwd())\n",
    "os.chdir(os.path.join(os.getcwd(), '..'))\n",
    "os.chdir(os.path.join(os.getcwd(), '..'))\n",
    "\n",
    "print(\"Updated Working Directory:\", os.getcwd())"
   ]
  },
  {
   "cell_type": "code",
   "execution_count": 24,
   "metadata": {},
   "outputs": [],
   "source": [
    "df = pd.read_csv(\"Files/Models/Smoking.csv\")"
   ]
  },
  {
   "cell_type": "code",
   "execution_count": 25,
   "metadata": {},
   "outputs": [],
   "source": [
    "X_smoking = df.drop(['smoking_state'], axis=1)\n",
    "y_smoking = df['smoking_state']"
   ]
  },
  {
   "cell_type": "markdown",
   "metadata": {},
   "source": [
    "<h3 style=\"font-family: 'Times New Roman'\">GradientBoosting</h3>"
   ]
  },
  {
   "cell_type": "markdown",
   "metadata": {},
   "source": [
    "<h4 style=\"font-family: 'Times New Roman'\">HyperParameters</h4>"
   ]
  },
  {
   "cell_type": "code",
   "execution_count": 26,
   "metadata": {},
   "outputs": [
    {
     "name": "stderr",
     "output_type": "stream",
     "text": [
      "c:\\Users\\afons\\miniconda3\\envs\\daa1\\Lib\\site-packages\\sklearn\\linear_model\\_sag.py:350: ConvergenceWarning: The max_iter was reached which means the coef_ did not converge\n",
      "  warnings.warn(\n",
      "c:\\Users\\afons\\miniconda3\\envs\\daa1\\Lib\\site-packages\\sklearn\\linear_model\\_sag.py:350: ConvergenceWarning: The max_iter was reached which means the coef_ did not converge\n",
      "  warnings.warn(\n",
      "c:\\Users\\afons\\miniconda3\\envs\\daa1\\Lib\\site-packages\\sklearn\\linear_model\\_sag.py:350: ConvergenceWarning: The max_iter was reached which means the coef_ did not converge\n",
      "  warnings.warn(\n",
      "c:\\Users\\afons\\miniconda3\\envs\\daa1\\Lib\\site-packages\\sklearn\\linear_model\\_sag.py:350: ConvergenceWarning: The max_iter was reached which means the coef_ did not converge\n",
      "  warnings.warn(\n",
      "c:\\Users\\afons\\miniconda3\\envs\\daa1\\Lib\\site-packages\\sklearn\\linear_model\\_sag.py:350: ConvergenceWarning: The max_iter was reached which means the coef_ did not converge\n",
      "  warnings.warn(\n",
      "c:\\Users\\afons\\miniconda3\\envs\\daa1\\Lib\\site-packages\\sklearn\\linear_model\\_sag.py:350: ConvergenceWarning: The max_iter was reached which means the coef_ did not converge\n",
      "  warnings.warn(\n",
      "c:\\Users\\afons\\miniconda3\\envs\\daa1\\Lib\\site-packages\\sklearn\\model_selection\\_validation.py:378: FitFailedWarning: \n",
      "3 fits failed out of a total of 12.\n",
      "The score on these train-test partitions for these parameters will be set to nan.\n",
      "If these failures are not expected, you can try to debug them by setting error_score='raise'.\n",
      "\n",
      "Below are more details about the failures:\n",
      "--------------------------------------------------------------------------------\n",
      "3 fits failed with the following error:\n",
      "Traceback (most recent call last):\n",
      "  File \"c:\\Users\\afons\\miniconda3\\envs\\daa1\\Lib\\site-packages\\sklearn\\model_selection\\_validation.py\", line 686, in _fit_and_score\n",
      "    estimator.fit(X_train, y_train, **fit_params)\n",
      "  File \"c:\\Users\\afons\\miniconda3\\envs\\daa1\\Lib\\site-packages\\sklearn\\linear_model\\_logistic.py\", line 1162, in fit\n",
      "    solver = _check_solver(self.solver, self.penalty, self.dual)\n",
      "             ^^^^^^^^^^^^^^^^^^^^^^^^^^^^^^^^^^^^^^^^^^^^^^^^^^^\n",
      "  File \"c:\\Users\\afons\\miniconda3\\envs\\daa1\\Lib\\site-packages\\sklearn\\linear_model\\_logistic.py\", line 54, in _check_solver\n",
      "    raise ValueError(\n",
      "ValueError: Solver sag supports only 'l2' or 'none' penalties, got l1 penalty.\n",
      "\n",
      "  warnings.warn(some_fits_failed_message, FitFailedWarning)\n",
      "c:\\Users\\afons\\miniconda3\\envs\\daa1\\Lib\\site-packages\\sklearn\\model_selection\\_search.py:952: UserWarning: One or more of the test scores are non-finite: [       nan 0.80539511 0.80548322 0.80530696]\n",
      "  warnings.warn(\n"
     ]
    },
    {
     "name": "stdout",
     "output_type": "stream",
     "text": [
      "Best Hyperparameters for Smoking (3-fold CV):\n",
      "{'penalty': 'l2', 'solver': 'sag'}\n",
      "Accuracy of the Best Model for Smoking (3-fold CV): 80.50%\n"
     ]
    }
   ],
   "source": [
    "param_grid = {\n",
    "    'penalty': ['l1', 'l2'],\n",
    "    'solver': ['sag', 'saga']\n",
    "}\n",
    "\n",
    "# Create a Logistic Regression Classifier\n",
    "lr_smoking = LogisticRegression(random_state=2023, max_iter=1000)\n",
    "\n",
    "# Define the scoring metric (accuracy)\n",
    "scoring = make_scorer(accuracy_score)\n",
    "\n",
    "# Define the number of cross-validation folds (cv)\n",
    "cv_value = 3 \n",
    "\n",
    "# Create a GridSearchCV object with refit=True\n",
    "grid_search_smoking = GridSearchCV(estimator=lr_smoking, param_grid=param_grid, scoring=scoring, cv=cv_value, refit=True)\n",
    "\n",
    "# Fit the GridSearchCV to find the best parameters\n",
    "grid_search_smoking.fit(X_smoking, y_smoking)\n",
    "\n",
    "# Print the best hyperparameters and the number of cross-validation folds\n",
    "best_params_smoking = grid_search_smoking.best_params_\n",
    "print(\"Best Hyperparameters for Smoking ({}-fold CV):\".format(cv_value))\n",
    "print(best_params_smoking)\n",
    "\n",
    "# Get the best estimator (trained model) from the GridSearchCV\n",
    "best_lr_smoking = grid_search_smoking.best_estimator_\n",
    "\n",
    "# Get the accuracy of the best model on the entire dataset\n",
    "best_accuracy_smoking = best_lr_smoking.score(X_smoking, y_smoking)\n",
    "print(\"Accuracy of the Best Model for Smoking ({}-fold CV): {:.2f}%\".format(cv_value, best_accuracy_smoking * 100))"
   ]
  },
  {
   "cell_type": "code",
   "execution_count": 27,
   "metadata": {},
   "outputs": [],
   "source": [
    "# Store the parameter grid in a dictionary\n",
    "param_grid_dict = {\n",
    "    'penalty': param_grid['penalty'],\n",
    "    # 'C': param_grid['C'],\n",
    "    # 'max_iter': param_grid['max_iter'],\n",
    "    'solver': param_grid['solver'],\n",
    "}\n",
    "\n",
    "# Create or update the results DataFrame\n",
    "result_dict = {\n",
    "    'Accuracy': [best_accuracy_smoking * 100],\n",
    "    'Best Parameters': [best_params_smoking],\n",
    "    'Cross-Validation (cv)': [cv_value],\n",
    "    'Parameter Grid': [param_grid_dict]\n",
    "}\n",
    "\n",
    "# Check if the results file exists\n",
    "file_exists = os.path.exists('Results/LogisticRegression/Smoking.csv')\n",
    "\n",
    "if file_exists:\n",
    "    # If the file exists, read the existing DataFrame\n",
    "    results = pd.read_csv('Results/LogisticRegression/Smoking.csv')\n",
    "    \n",
    "    # Sort the DataFrame by Accuracy in descending order\n",
    "    results = results.sort_values(by='Accuracy', ascending=False)\n",
    "\n",
    "    # Check if an entry with the same values already exists in the DataFrame\n",
    "    duplicate_entry = (\n",
    "        (results['Accuracy'] == best_accuracy_smoking * 100) &\n",
    "        (results['Cross-Validation (cv)'] == cv_value) \n",
    "    )\n",
    "    \n",
    "    if not duplicate_entry.any():\n",
    "        # If no duplicate entry exists, append the new results\n",
    "        results = pd.concat([results, pd.DataFrame(result_dict)], ignore_index=True)\n",
    "\n",
    "else:\n",
    "    # If the file doesn't exist, create a new DataFrame and save it\n",
    "    results = pd.DataFrame(result_dict)\n",
    "\n",
    "# Save the DataFrame to a CSV file\n",
    "results.to_csv('Results/LogisticRegression/Smoking.csv', index=False)"
   ]
  },
  {
   "cell_type": "code",
   "execution_count": 28,
   "metadata": {},
   "outputs": [
    {
     "name": "stdout",
     "output_type": "stream",
     "text": [
      "Updated Working Directory: c:\\Users\\afons\\OneDrive\\Ambiente de Trabalho\\4o Ano\\DAA\\Projeto\\DAA\\Source\\DataSetGrupo\\Modelos\\LogisticRegression\n"
     ]
    }
   ],
   "source": [
    "name = \"LogisticRegression\"\n",
    "\n",
    "os.chdir(os.path.join(os.getcwd(), 'Modelos'))\n",
    "os.chdir(os.path.join(os.getcwd(), name))\n",
    "\n",
    "print(\"Updated Working Directory:\", os.getcwd())"
   ]
  }
 ],
 "metadata": {
  "kernelspec": {
   "display_name": "daa1",
   "language": "python",
   "name": "python3"
  },
  "language_info": {
   "codemirror_mode": {
    "name": "ipython",
    "version": 3
   },
   "file_extension": ".py",
   "mimetype": "text/x-python",
   "name": "python",
   "nbconvert_exporter": "python",
   "pygments_lexer": "ipython3",
   "version": "3.11.5"
  }
 },
 "nbformat": 4,
 "nbformat_minor": 2
}
