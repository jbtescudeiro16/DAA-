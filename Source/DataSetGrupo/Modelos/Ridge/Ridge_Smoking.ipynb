{
 "cells": [
  {
   "cell_type": "markdown",
   "metadata": {},
   "source": [
    "<center>\n",
    "<h1 style=\"font-family: 'Times New Roman', Times, serif; font-size: 60px;\">DAA</h1>\n",
    "<h2 style=\"font-family: 'Times New Roman', Times, serif; font-size: 40px;\">Ridge for Smoking</h2>\n",
    "</center>\n",
    "\n",
    "<font face=\"Times New Roman\">"
   ]
  },
  {
   "cell_type": "markdown",
   "metadata": {},
   "source": [
    "<h3 style=\"font-family: 'Times New Roman'\">Imports</h3>"
   ]
  },
  {
   "cell_type": "code",
   "execution_count": 1,
   "metadata": {},
   "outputs": [],
   "source": [
    "# Import necessary libraries\n",
    "import pandas as pd                                                  # Import pandas for data manipulation and analysis\n",
    "from sklearn.linear_model import RidgeClassifier                      # Import the RidgeClassifier\n",
    "from sklearn.metrics import accuracy_score                           # Import accuracy_score for evaluating model performance\n",
    "from sklearn.model_selection import GridSearchCV                     # Import GridSearchCV for hyperparameter tuning\n",
    "from sklearn.metrics import make_scorer, accuracy_score              # Import make_scorer and accuracy_score for custom scoring\n",
    "import os                                                            # Import os for interacting with the operating system"
   ]
  },
  {
   "cell_type": "markdown",
   "metadata": {},
   "source": [
    "<h3 style=\"font-family: 'Times New Roman'\">Load Dataset</h3>"
   ]
  },
  {
   "cell_type": "code",
   "execution_count": 2,
   "metadata": {},
   "outputs": [
    {
     "name": "stdout",
     "output_type": "stream",
     "text": [
      "Directory: c:\\Users\\afons\\OneDrive\\Ambiente de Trabalho\\4o Ano\\DAA\\Projeto\\DAA\\Source\\DataSetGrupo\\Modelos\\Ridge\n",
      "Updated Working Directory: c:\\Users\\afons\\OneDrive\\Ambiente de Trabalho\\4o Ano\\DAA\\Projeto\\DAA\\Source\\DataSetGrupo\n"
     ]
    }
   ],
   "source": [
    "print(\"Directory:\", os.getcwd())\n",
    "os.chdir(os.path.join(os.getcwd(), '..'))\n",
    "os.chdir(os.path.join(os.getcwd(), '..'))\n",
    "\n",
    "print(\"Updated Working Directory:\", os.getcwd())"
   ]
  },
  {
   "cell_type": "markdown",
   "metadata": {},
   "source": [
    "<h3 style=\"font-family: 'Times New Roman'\">Random Forest</h3>"
   ]
  },
  {
   "cell_type": "code",
   "execution_count": 3,
   "metadata": {},
   "outputs": [],
   "source": [
    "df = pd.read_csv(\"Files/Models/Smoking.csv\")"
   ]
  },
  {
   "cell_type": "code",
   "execution_count": 4,
   "metadata": {},
   "outputs": [],
   "source": [
    "# Prepare the data for predicting 'smoking_state'\n",
    "X_smoking = df.drop(['smoking_state'], axis=1)\n",
    "y_smoking = df['smoking_state']"
   ]
  },
  {
   "cell_type": "markdown",
   "metadata": {},
   "source": [
    "<h4 style=\"font-family: 'Times New Roman'\">HyperParameters</h4>"
   ]
  },
  {
   "cell_type": "code",
   "execution_count": 5,
   "metadata": {},
   "outputs": [
    {
     "name": "stdout",
     "output_type": "stream",
     "text": [
      "Best Hyperparameters for Smoking (10-fold CV):\n",
      "{'alpha': 0.1, 'solver': 'saga'}\n",
      "Accuracy of the Best Model for Smoking (10-fold CV): 80.71%\n"
     ]
    }
   ],
   "source": [
    "# Define the Ridge parameter grid for hyperparameter tuning\n",
    "param_grid_ridge = {\n",
    "    'alpha':  [0.1, 0.01, 0.2, 0.3],  # Regularization strength\n",
    "    'solver': ['auto', 'svd', 'cholesky', 'lsqr', 'sparse_cg', 'sag', 'saga'],  # Solver for optimization\n",
    "}\n",
    "\n",
    "# Create a Ridge Classifier\n",
    "ridge_smoking = RidgeClassifier(random_state=2023)\n",
    "\n",
    "# Define the scoring metric (accuracy)\n",
    "scoring = make_scorer(accuracy_score)\n",
    "\n",
    "# Define the number of cross-validation folds (cv)\n",
    "cv_value = 10\n",
    "\n",
    "# Create a GridSearchCV object with refit=True\n",
    "grid_search_smoking_ridge = GridSearchCV(estimator=ridge_smoking, param_grid=param_grid_ridge, scoring=scoring, cv=cv_value, refit=True)\n",
    "\n",
    "# Fit the GridSearchCV to find the best parameters\n",
    "grid_search_smoking_ridge.fit(X_smoking, y_smoking)\n",
    "\n",
    "# Print the best hyperparameters and the number of cross-validation folds\n",
    "best_params_smoking_ridge = grid_search_smoking_ridge.best_params_\n",
    "print(\"Best Hyperparameters for Smoking ({}-fold CV):\".format(cv_value))\n",
    "print(best_params_smoking_ridge)\n",
    "\n",
    "# Get the best estimator (trained model) from the GridSearchCV\n",
    "best_ridge_smoking = grid_search_smoking_ridge.best_estimator_\n",
    "\n",
    "# Get the accuracy of the best model on the entire dataset\n",
    "best_accuracy_smoking_ridge = best_ridge_smoking.score(X_smoking, y_smoking)\n",
    "print(\"Accuracy of the Best Model for Smoking ({}-fold CV): {:.2f}%\".format(cv_value, best_accuracy_smoking_ridge * 100))"
   ]
  },
  {
   "cell_type": "code",
   "execution_count": 6,
   "metadata": {},
   "outputs": [
    {
     "ename": "ValueError",
     "evalue": "('Lengths must match to compare', (2,), (1,))",
     "output_type": "error",
     "traceback": [
      "\u001b[1;31m---------------------------------------------------------------------------\u001b[0m",
      "\u001b[1;31mValueError\u001b[0m                                Traceback (most recent call last)",
      "Cell \u001b[1;32mIn[6], line 28\u001b[0m\n\u001b[0;32m     23\u001b[0m results \u001b[38;5;241m=\u001b[39m results\u001b[38;5;241m.\u001b[39msort_values(by\u001b[38;5;241m=\u001b[39m\u001b[38;5;124m'\u001b[39m\u001b[38;5;124mAccuracy\u001b[39m\u001b[38;5;124m'\u001b[39m, ascending\u001b[38;5;241m=\u001b[39m\u001b[38;5;28;01mFalse\u001b[39;00m)\n\u001b[0;32m     25\u001b[0m \u001b[38;5;66;03m# Check if an entry with the same values already exists in the DataFrame\u001b[39;00m\n\u001b[0;32m     26\u001b[0m duplicate_entry \u001b[38;5;241m=\u001b[39m (\n\u001b[0;32m     27\u001b[0m     (results[\u001b[38;5;124m'\u001b[39m\u001b[38;5;124mAccuracy\u001b[39m\u001b[38;5;124m'\u001b[39m] \u001b[38;5;241m==\u001b[39m best_accuracy_smoking_ridge \u001b[38;5;241m*\u001b[39m \u001b[38;5;241m100\u001b[39m) \u001b[38;5;241m&\u001b[39m\n\u001b[1;32m---> 28\u001b[0m     (results[\u001b[38;5;124m'\u001b[39m\u001b[38;5;124mBest Parameters\u001b[39m\u001b[38;5;124m'\u001b[39m] \u001b[38;5;241m==\u001b[39m [best_params_smoking_ridge]) \u001b[38;5;241m&\u001b[39m\n\u001b[0;32m     29\u001b[0m     (results[\u001b[38;5;124m'\u001b[39m\u001b[38;5;124mCross-Validation (cv)\u001b[39m\u001b[38;5;124m'\u001b[39m] \u001b[38;5;241m==\u001b[39m cv_value) \u001b[38;5;241m&\u001b[39m\n\u001b[0;32m     30\u001b[0m     (results[\u001b[38;5;124m'\u001b[39m\u001b[38;5;124mParameter Grid\u001b[39m\u001b[38;5;124m'\u001b[39m] \u001b[38;5;241m==\u001b[39m [param_grid_dict])\n\u001b[0;32m     31\u001b[0m )\n\u001b[0;32m     33\u001b[0m \u001b[38;5;28;01mif\u001b[39;00m \u001b[38;5;129;01mnot\u001b[39;00m duplicate_entry\u001b[38;5;241m.\u001b[39many():\n\u001b[0;32m     34\u001b[0m     \u001b[38;5;66;03m# If no duplicate entry exists, append the new results\u001b[39;00m\n\u001b[0;32m     35\u001b[0m     results \u001b[38;5;241m=\u001b[39m pd\u001b[38;5;241m.\u001b[39mconcat([results, pd\u001b[38;5;241m.\u001b[39mDataFrame(result_dict)], ignore_index\u001b[38;5;241m=\u001b[39m\u001b[38;5;28;01mTrue\u001b[39;00m)\n",
      "File \u001b[1;32mc:\\Users\\afons\\miniconda3\\envs\\daa1\\Lib\\site-packages\\pandas\\core\\ops\\common.py:81\u001b[0m, in \u001b[0;36m_unpack_zerodim_and_defer.<locals>.new_method\u001b[1;34m(self, other)\u001b[0m\n\u001b[0;32m     77\u001b[0m             \u001b[38;5;28;01mreturn\u001b[39;00m \u001b[38;5;28mNotImplemented\u001b[39m\n\u001b[0;32m     79\u001b[0m other \u001b[38;5;241m=\u001b[39m item_from_zerodim(other)\n\u001b[1;32m---> 81\u001b[0m \u001b[38;5;28;01mreturn\u001b[39;00m method(\u001b[38;5;28mself\u001b[39m, other)\n",
      "File \u001b[1;32mc:\\Users\\afons\\miniconda3\\envs\\daa1\\Lib\\site-packages\\pandas\\core\\arraylike.py:40\u001b[0m, in \u001b[0;36mOpsMixin.__eq__\u001b[1;34m(self, other)\u001b[0m\n\u001b[0;32m     38\u001b[0m \u001b[38;5;129m@unpack_zerodim_and_defer\u001b[39m(\u001b[38;5;124m\"\u001b[39m\u001b[38;5;124m__eq__\u001b[39m\u001b[38;5;124m\"\u001b[39m)\n\u001b[0;32m     39\u001b[0m \u001b[38;5;28;01mdef\u001b[39;00m \u001b[38;5;21m__eq__\u001b[39m(\u001b[38;5;28mself\u001b[39m, other):\n\u001b[1;32m---> 40\u001b[0m     \u001b[38;5;28;01mreturn\u001b[39;00m \u001b[38;5;28mself\u001b[39m\u001b[38;5;241m.\u001b[39m_cmp_method(other, operator\u001b[38;5;241m.\u001b[39meq)\n",
      "File \u001b[1;32mc:\\Users\\afons\\miniconda3\\envs\\daa1\\Lib\\site-packages\\pandas\\core\\series.py:6096\u001b[0m, in \u001b[0;36mSeries._cmp_method\u001b[1;34m(self, other, op)\u001b[0m\n\u001b[0;32m   6093\u001b[0m rvalues \u001b[38;5;241m=\u001b[39m extract_array(other, extract_numpy\u001b[38;5;241m=\u001b[39m\u001b[38;5;28;01mTrue\u001b[39;00m, extract_range\u001b[38;5;241m=\u001b[39m\u001b[38;5;28;01mTrue\u001b[39;00m)\n\u001b[0;32m   6095\u001b[0m \u001b[38;5;28;01mwith\u001b[39;00m np\u001b[38;5;241m.\u001b[39merrstate(\u001b[38;5;28mall\u001b[39m\u001b[38;5;241m=\u001b[39m\u001b[38;5;124m\"\u001b[39m\u001b[38;5;124mignore\u001b[39m\u001b[38;5;124m\"\u001b[39m):\n\u001b[1;32m-> 6096\u001b[0m     res_values \u001b[38;5;241m=\u001b[39m ops\u001b[38;5;241m.\u001b[39mcomparison_op(lvalues, rvalues, op)\n\u001b[0;32m   6098\u001b[0m \u001b[38;5;28;01mreturn\u001b[39;00m \u001b[38;5;28mself\u001b[39m\u001b[38;5;241m.\u001b[39m_construct_result(res_values, name\u001b[38;5;241m=\u001b[39mres_name)\n",
      "File \u001b[1;32mc:\\Users\\afons\\miniconda3\\envs\\daa1\\Lib\\site-packages\\pandas\\core\\ops\\array_ops.py:270\u001b[0m, in \u001b[0;36mcomparison_op\u001b[1;34m(left, right, op)\u001b[0m\n\u001b[0;32m    265\u001b[0m \u001b[38;5;28;01mif\u001b[39;00m \u001b[38;5;28misinstance\u001b[39m(rvalues, (np\u001b[38;5;241m.\u001b[39mndarray, ABCExtensionArray)):\n\u001b[0;32m    266\u001b[0m     \u001b[38;5;66;03m# TODO: make this treatment consistent across ops and classes.\u001b[39;00m\n\u001b[0;32m    267\u001b[0m     \u001b[38;5;66;03m#  We are not catching all listlikes here (e.g. frozenset, tuple)\u001b[39;00m\n\u001b[0;32m    268\u001b[0m     \u001b[38;5;66;03m#  The ambiguous case is object-dtype.  See GH#27803\u001b[39;00m\n\u001b[0;32m    269\u001b[0m     \u001b[38;5;28;01mif\u001b[39;00m \u001b[38;5;28mlen\u001b[39m(lvalues) \u001b[38;5;241m!=\u001b[39m \u001b[38;5;28mlen\u001b[39m(rvalues):\n\u001b[1;32m--> 270\u001b[0m         \u001b[38;5;28;01mraise\u001b[39;00m \u001b[38;5;167;01mValueError\u001b[39;00m(\n\u001b[0;32m    271\u001b[0m             \u001b[38;5;124m\"\u001b[39m\u001b[38;5;124mLengths must match to compare\u001b[39m\u001b[38;5;124m\"\u001b[39m, lvalues\u001b[38;5;241m.\u001b[39mshape, rvalues\u001b[38;5;241m.\u001b[39mshape\n\u001b[0;32m    272\u001b[0m         )\n\u001b[0;32m    274\u001b[0m \u001b[38;5;28;01mif\u001b[39;00m should_extension_dispatch(lvalues, rvalues) \u001b[38;5;129;01mor\u001b[39;00m (\n\u001b[0;32m    275\u001b[0m     (\u001b[38;5;28misinstance\u001b[39m(rvalues, (Timedelta, BaseOffset, Timestamp)) \u001b[38;5;129;01mor\u001b[39;00m right \u001b[38;5;129;01mis\u001b[39;00m NaT)\n\u001b[0;32m    276\u001b[0m     \u001b[38;5;129;01mand\u001b[39;00m \u001b[38;5;129;01mnot\u001b[39;00m is_object_dtype(lvalues\u001b[38;5;241m.\u001b[39mdtype)\n\u001b[0;32m    277\u001b[0m ):\n\u001b[0;32m    278\u001b[0m     \u001b[38;5;66;03m# Call the method on lvalues\u001b[39;00m\n\u001b[0;32m    279\u001b[0m     res_values \u001b[38;5;241m=\u001b[39m op(lvalues, rvalues)\n",
      "\u001b[1;31mValueError\u001b[0m: ('Lengths must match to compare', (2,), (1,))"
     ]
    }
   ],
   "source": [
    "# Store the parameter grid in a dictionary\n",
    "param_grid_dict = {\n",
    "    'alpha': param_grid_ridge['alpha'],\n",
    "    'solver': param_grid_ridge['solver'],\n",
    "}\n",
    "\n",
    "# Create or update the results DataFrame\n",
    "result_dict = {\n",
    "    'Accuracy': [best_accuracy_smoking_ridge * 100],\n",
    "    'Best Parameters': [best_params_smoking_ridge],\n",
    "    'Cross-Validation (cv)': [cv_value],\n",
    "    'Parameter Grid': [param_grid_dict]\n",
    "}\n",
    "\n",
    "# Check if the results file exists\n",
    "file_exists = os.path.exists('Results/Ridge/Smoking.csv')\n",
    "\n",
    "if file_exists:\n",
    "    # If the file exists, read the existing DataFrame\n",
    "    results = pd.read_csv('Results/Ridge/Smoking.csv')\n",
    "    \n",
    "    # Sort the DataFrame by Accuracy in descending order\n",
    "    results = results.sort_values(by='Accuracy', ascending=False)\n",
    "\n",
    "    # Check if an entry with the same values already exists in the DataFrame\n",
    "    duplicate_entry = (\n",
    "        (results['Accuracy'] == best_accuracy_smoking_ridge * 100) &\n",
    "        (results['Best Parameters'] == [best_params_smoking_ridge]) &\n",
    "        (results['Cross-Validation (cv)'] == cv_value) &\n",
    "        (results['Parameter Grid'] == [param_grid_dict])\n",
    "    )\n",
    "    \n",
    "    if not duplicate_entry.any():\n",
    "        # If no duplicate entry exists, append the new results\n",
    "        results = pd.concat([results, pd.DataFrame(result_dict)], ignore_index=True)\n",
    "\n",
    "else:\n",
    "    # If the file doesn't exist, create a new DataFrame and save it\n",
    "    results = pd.DataFrame(result_dict)\n",
    "\n",
    "# Save the DataFrame to a CSV file\n",
    "results.to_csv('Results/Ridge/Smoking.csv', index=False)"
   ]
  },
  {
   "cell_type": "code",
   "execution_count": null,
   "metadata": {},
   "outputs": [
    {
     "name": "stdout",
     "output_type": "stream",
     "text": [
      "Updated Working Directory: c:\\Users\\afons\\OneDrive\\Ambiente de Trabalho\\4o Ano\\DAA\\Projeto\\DAA\\Source\\DataSetGrupo\\Modelos\\Ridge\n"
     ]
    }
   ],
   "source": [
    "name = \"Ridge\"\n",
    "\n",
    "os.chdir(os.path.join(os.getcwd(), 'Modelos'))\n",
    "os.chdir(os.path.join(os.getcwd(), name))\n",
    "\n",
    "print(\"Updated Working Directory:\", os.getcwd())"
   ]
  }
 ],
 "metadata": {
  "kernelspec": {
   "display_name": "daa1",
   "language": "python",
   "name": "python3"
  },
  "language_info": {
   "codemirror_mode": {
    "name": "ipython",
    "version": 3
   },
   "file_extension": ".py",
   "mimetype": "text/x-python",
   "name": "python",
   "nbconvert_exporter": "python",
   "pygments_lexer": "ipython3",
   "version": "3.11.5"
  }
 },
 "nbformat": 4,
 "nbformat_minor": 2
}
