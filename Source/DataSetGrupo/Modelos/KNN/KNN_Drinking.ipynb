{
 "cells": [
  {
   "cell_type": "markdown",
   "metadata": {},
   "source": [
    "<center>\n",
    "<h1 style=\"font-family: 'Times New Roman', Times, serif; font-size: 60px;\">DAA</h1>\n",
    "<h2 style=\"font-family: 'Times New Roman', Times, serif; font-size: 40px;\">KNN for Drinking</h2>\n",
    "</center>\n",
    "\n",
    "<font face=\"Times New Roman\">"
   ]
  },
  {
   "cell_type": "markdown",
   "metadata": {},
   "source": [
    "<h3 style=\"font-family: 'Times New Roman'\">Imports</h3>"
   ]
  },
  {
   "cell_type": "code",
   "execution_count": 1,
   "metadata": {},
   "outputs": [],
   "source": [
    "import pandas as pd                                                  # Import pandas for data manipulation and analysis\n",
    "from sklearn.neighbors import KNeighborsClassifier                   # Import the KNeighborsClassifier\n",
    "from sklearn.metrics import accuracy_score                           # Import accuracy_score for evaluating model performance\n",
    "from sklearn.model_selection import GridSearchCV                     # Import GridSearchCV for hyperparameter tuning\n",
    "from sklearn.metrics import make_scorer, accuracy_score              # Import make_scorer and accuracy_score for custom scoring\n",
    "import os                                                            # Import os for interacting with the operating system"
   ]
  },
  {
   "cell_type": "markdown",
   "metadata": {},
   "source": [
    "<h3 style=\"font-family: 'Times New Roman'\">Load Dataset Drinking</h3>"
   ]
  },
  {
   "cell_type": "code",
   "execution_count": 2,
   "metadata": {},
   "outputs": [
    {
     "name": "stdout",
     "output_type": "stream",
     "text": [
      "Directory: c:\\Users\\afons\\OneDrive\\Ambiente de Trabalho\\4o Ano\\DAA\\Projeto\\DAA\\Source\\DataSetGrupo\\Modelos\\KNN\n",
      "Updated Working Directory: c:\\Users\\afons\\OneDrive\\Ambiente de Trabalho\\4o Ano\\DAA\\Projeto\\DAA\\Source\\DataSetGrupo\n"
     ]
    }
   ],
   "source": [
    "print(\"Directory:\", os.getcwd())\n",
    "os.chdir(os.path.join(os.getcwd(), '..'))\n",
    "os.chdir(os.path.join(os.getcwd(), '..'))\n",
    "\n",
    "print(\"Updated Working Directory:\", os.getcwd())"
   ]
  },
  {
   "cell_type": "code",
   "execution_count": 3,
   "metadata": {},
   "outputs": [],
   "source": [
    "df = pd.read_csv(\"Files/Models/Drinking.csv\")"
   ]
  },
  {
   "cell_type": "code",
   "execution_count": 4,
   "metadata": {},
   "outputs": [],
   "source": [
    "X_drinker = df.drop(['drinker_or_not'], axis=1)\n",
    "y_drinker = df['drinker_or_not']"
   ]
  },
  {
   "cell_type": "markdown",
   "metadata": {},
   "source": [
    "<h3 style=\"font-family: 'Times New Roman'\">KNN</h3>"
   ]
  },
  {
   "cell_type": "markdown",
   "metadata": {},
   "source": [
    "<h4 style=\"font-family: 'Times New Roman'\">HyperParameters</h4>"
   ]
  },
  {
   "cell_type": "code",
   "execution_count": 5,
   "metadata": {},
   "outputs": [
    {
     "name": "stdout",
     "output_type": "stream",
     "text": [
      "Best Hyperparameters for Drinking (5-fold CV):\n",
      "{'algorithm': 'ball_tree', 'leaf_size': 40, 'n_neighbors': 100, 'p': 1, 'weights': 'uniform'}\n",
      "Accuracy of the Best Model for Drinking (5-fold CV): 71.05%\n"
     ]
    }
   ],
   "source": [
    "# Define the KNN parameter grid for hyperparameter tuning\n",
    "param_grid = {\n",
    "    'n_neighbors': [20, 40, 50, 60, 100],  # Adjust the number of neighbors\n",
    "    'weights': ['uniform', 'distance'],  # Adjust the weight function\n",
    "    'algorithm': ['auto', 'ball_tree', 'kd_tree', 'brute'],\n",
    "    'p': [1, 2, 3, 4],  # Adjust the power parameter for Minkowski distance\n",
    "    'leaf_size': [20, 25, 30, 35, 40],  # Adjust the leaf size for tree-based queries\n",
    "}\n",
    "\n",
    "# Create a K-Nearest Neighbors Classifier\n",
    "knn_drinker = KNeighborsClassifier()\n",
    "\n",
    "# Define the scoring metric (accuracy)\n",
    "scoring = make_scorer(accuracy_score)\n",
    "\n",
    "# Define the number of cross-validation folds (cv)\n",
    "cv_value = 5\n",
    "\n",
    "# Create a GridSearchCV object with refit=True\n",
    "grid_search_drinker = GridSearchCV(estimator=knn_drinker, param_grid=param_grid, scoring=scoring, cv=cv_value, refit=True)\n",
    "\n",
    "# Fit the GridSearchCV to find the best parameters\n",
    "grid_search_drinker.fit(X_drinker, y_drinker)\n",
    "\n",
    "# Print the best hyperparameters and the number of cross-validation folds\n",
    "best_params_drinker = grid_search_drinker.best_params_\n",
    "print(\"Best Hyperparameters for Drinking ({}-fold CV):\".format(cv_value))\n",
    "print(best_params_drinker)\n",
    "\n",
    "# Get the best estimator (trained model) from the GridSearchCV\n",
    "best_knn_drinker = grid_search_drinker.best_estimator_\n",
    "\n",
    "# Get the accuracy of the best model on the entire dataset\n",
    "best_accuracy_drinker = best_knn_drinker.score(X_drinker, y_drinker)\n",
    "print(\"Accuracy of the Best Model for Drinking ({}-fold CV): {:.2f}%\".format(cv_value, best_accuracy_drinker * 100))\n"
   ]
  },
  {
   "cell_type": "code",
   "execution_count": 6,
   "metadata": {},
   "outputs": [],
   "source": [
    "# Store the parameter grid in a dictionary\n",
    "param_grid_dict = {\n",
    "    'n_neighbors': param_grid['n_neighbors'],\n",
    "    'weights': param_grid['weights'],\n",
    "    'algorithm': param_grid['algorithm'],\n",
    "    'p': param_grid['p'],\n",
    "    'leaf_size': param_grid['leaf_size'],\n",
    "}\n",
    "\n",
    "# Create or update the results DataFrame\n",
    "result_dict = {\n",
    "    'Accuracy': [best_accuracy_drinker * 100],\n",
    "    'Best Parameters': [best_params_drinker],\n",
    "    'Cross-Validation (cv)': [cv_value],\n",
    "    'Parameter Grid': [param_grid_dict]\n",
    "}\n",
    "\n",
    "# Check if the results file exists\n",
    "file_exists = os.path.exists('Results/KNN/Drinking.csv')\n",
    "\n",
    "if file_exists:\n",
    "    # If the file exists, read the existing DataFrame\n",
    "    results = pd.read_csv('Results/KNN/Drinking.csv')\n",
    "    \n",
    "    # Sort the DataFrame by Accuracy in descending order\n",
    "    results = results.sort_values(by='Accuracy', ascending=False)\n",
    "\n",
    "    # Check if an entry with the same values already exists in the DataFrame\n",
    "    duplicate_entry = (\n",
    "        (results['Accuracy'] == best_accuracy_drinker * 100) &\n",
    "        # (results['Best Parameters'] == [best_params_drinker]) &\n",
    "        (results['Cross-Validation (cv)'] == cv_value) \n",
    "        # (results['Parameter Grid'] == [param_grid_dict])\n",
    "    )\n",
    "    \n",
    "    if not duplicate_entry.any():\n",
    "        # If no duplicate entry exists, append the new results\n",
    "        results = pd.concat([results, pd.DataFrame(result_dict)], ignore_index=True)\n",
    "\n",
    "else:\n",
    "    # If the file doesn't exist, create a new DataFrame and save it\n",
    "    results = pd.DataFrame(result_dict)\n",
    "\n",
    "# Save the DataFrame to a CSV file\n",
    "results.to_csv('Results/KNN/Drinking.csv', index=False)"
   ]
  },
  {
   "cell_type": "code",
   "execution_count": 7,
   "metadata": {},
   "outputs": [
    {
     "name": "stdout",
     "output_type": "stream",
     "text": [
      "Updated Working Directory: c:\\Users\\afons\\OneDrive\\Ambiente de Trabalho\\4o Ano\\DAA\\Projeto\\DAA\\Source\\DataSetGrupo\\Modelos\\KNN\n"
     ]
    }
   ],
   "source": [
    "name = \"KNN\"\n",
    "\n",
    "os.chdir(os.path.join(os.getcwd(), 'Modelos'))\n",
    "os.chdir(os.path.join(os.getcwd(), name))\n",
    "\n",
    "print(\"Updated Working Directory:\", os.getcwd())"
   ]
  }
 ],
 "metadata": {
  "kernelspec": {
   "display_name": "daa1",
   "language": "python",
   "name": "python3"
  },
  "language_info": {
   "codemirror_mode": {
    "name": "ipython",
    "version": 3
   },
   "file_extension": ".py",
   "mimetype": "text/x-python",
   "name": "python",
   "nbconvert_exporter": "python",
   "pygments_lexer": "ipython3",
   "version": "3.11.5"
  }
 },
 "nbformat": 4,
 "nbformat_minor": 2
}
