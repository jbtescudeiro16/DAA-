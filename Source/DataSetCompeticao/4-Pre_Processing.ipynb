{
 "cells": [
  {
   "cell_type": "markdown",
   "metadata": {},
   "source": [
    "<center>\n",
    "<h1 style=\"font-family: 'Times New Roman', Times, serif; font-size: 60px;\">DAA</h1>\n",
    "<h2 style=\"font-family: 'Times New Roman', Times, serif; font-size: 40px;\">Pre Processing</h2>\n",
    "</center>\n",
    "\n",
    "<font face=\"Times New Roman\">"
   ]
  },
  {
   "cell_type": "markdown",
   "metadata": {},
   "source": [
    "<h3 style=\"font-family: 'Times New Roman'\">Imports</h3>"
   ]
  },
  {
   "cell_type": "code",
   "execution_count": 1,
   "metadata": {},
   "outputs": [],
   "source": [
    "# Import necessary libraries\n",
    "import pandas as pd              # Import pandas for data manipulation and analysis\n",
    "import numpy as np               # Import numpy for numerical computations"
   ]
  },
  {
   "cell_type": "markdown",
   "metadata": {},
   "source": [
    "<h3 style=\"font-family: 'Times New Roman'\">Load All Datasets</h3>"
   ]
  },
  {
   "cell_type": "markdown",
   "metadata": {},
   "source": [
    "<!-- <h3 style=\"font-family: 'Times New Roman'\">Load All Datasets</h3> -->"
   ]
  },
  {
   "cell_type": "code",
   "execution_count": 2,
   "metadata": {},
   "outputs": [],
   "source": [
    "final = pd.read_csv(\"Ficheiros/Ficheiros_Pos_DataAnalysis_Before_PP/Final.csv\", na_filter=False)\n",
    "final_teste = pd.read_csv(\"Ficheiros/Ficheiros_Pos_DataAnalysis_Before_PP/Final_Teste.csv\")"
   ]
  },
  {
   "cell_type": "code",
   "execution_count": 3,
   "metadata": {},
   "outputs": [],
   "source": [
    "# pd.set_option('display.max_columns', 500)\n",
    "# pd.set_option('display.max_rows', 500)"
   ]
  },
  {
   "cell_type": "markdown",
   "metadata": {},
   "source": [
    "<h3 style=\"font-family: 'Times New Roman'\">Pre Processing</h3>"
   ]
  },
  {
   "cell_type": "code",
   "execution_count": 4,
   "metadata": {},
   "outputs": [
    {
     "name": "stdout",
     "output_type": "stream",
     "text": [
      "                    date  normal_consume  consumption_in_period  autoconsume  \\\n",
      "942  2021-12-08 06:00:00             0.0                  6.978          0.0   \n",
      "\n",
      "     injection  temp  feels_like  temp_min  temp_max  humidity  ...  month  \\\n",
      "942          0  7.39         4.3      7.37      7.88        93  ...     12   \n",
      "\n",
      "     year  day_of_week  hour  isFeriado  hour_str        Data  is_weekend  \\\n",
      "942  2021            2     6          1     06:00  2021-12-08       False   \n",
      "\n",
      "     Estacao_do_Ano  vacaciones  \n",
      "942               0           0  \n",
      "\n",
      "[1 rows x 25 columns]\n"
     ]
    }
   ],
   "source": [
    "# Filter rows where 'consumption_in_period' is between 6 and 8 (inclusive)\n",
    "filtered_rows = final[(final['consumption_in_period'] >= 6) & (final['consumption_in_period'] <= 8)]\n",
    "\n",
    "# Display the resulting DataFrame\n",
    "print(filtered_rows)\n",
    "\n",
    "# Drop rows where 'consumption_in_period' is between 6 and 8 (inclusive)\n",
    "final.drop(final[(final['consumption_in_period'] >= 6) & (final['consumption_in_period'] <= 8)].index, inplace=True)"
   ]
  },
  {
   "cell_type": "code",
   "execution_count": 5,
   "metadata": {},
   "outputs": [],
   "source": [
    "final['consumo_total'] = (final['autoconsume'] + final['normal_consume'] + final['consumption_in_period']).round(2)\n",
    "final_teste['consumo_total'] = (final_teste['autoconsume'] + final_teste['normal_consume'] + final_teste['consumption_in_period']).round(2)"
   ]
  },
  {
   "cell_type": "code",
   "execution_count": 6,
   "metadata": {},
   "outputs": [],
   "source": [
    "mask = final['consumo_total'] != 0\n",
    "final['taxa_autoconsumo'] = np.where(mask, (final['autoconsume'] / final['consumo_total']).round(2), 0)"
   ]
  },
  {
   "cell_type": "code",
   "execution_count": 7,
   "metadata": {},
   "outputs": [],
   "source": [
    "mask2 = final_teste['consumo_total'] != 0\n",
    "final_teste['taxa_autoconsumo'] = np.where(mask2, (final_teste['autoconsume'] / final_teste['consumo_total']).round(2), 0)"
   ]
  },
  {
   "cell_type": "code",
   "execution_count": 8,
   "metadata": {},
   "outputs": [],
   "source": [
    "# Extracting the hour part as an integer\n",
    "final['hour'] = final['hour_str'].str.extract('(\\d+)', expand=False).astype(int)\n",
    "\n",
    "# Creating the new column based on the conditions\n",
    "final['hora_partida'] = (final['hour'] >= 7) & (final['hour'] <= 18)\n",
    "\n",
    "# Converting the boolean results to 1 and 0\n",
    "final['hora_partida'] = final['hora_partida'].astype(int)"
   ]
  },
  {
   "cell_type": "code",
   "execution_count": 9,
   "metadata": {},
   "outputs": [],
   "source": [
    "# Extracting the hour part as an integer\n",
    "final_teste['hour'] = final_teste['hour_str'].str.extract('(\\d+)', expand=False).astype(int)\n",
    "\n",
    "# Creating the new column based on the conditions\n",
    "final_teste['hora_partida'] = (final_teste['hour'] >= 7) & (final_teste['hour'] <= 18)\n",
    "\n",
    "# Converting the boolean results to 1 and 0\n",
    "final_teste['hora_partida'] = final_teste['hora_partida'].astype(int)"
   ]
  },
  {
   "cell_type": "code",
   "execution_count": 10,
   "metadata": {},
   "outputs": [],
   "source": [
    "final['injection_tentativa'] = (final['autoconsume'] - (final['normal_consume'] + final['consumption_in_period'])).round(2)\n",
    "final_teste['injection_tentativa'] = (final_teste['autoconsume'] - (final_teste['normal_consume'] + final_teste['consumption_in_period'])).round(2)"
   ]
  },
  {
   "cell_type": "code",
   "execution_count": 11,
   "metadata": {},
   "outputs": [
    {
     "data": {
      "text/plain": [
       "Index(['date', 'normal_consume', 'consumption_in_period', 'autoconsume',\n",
       "       'injection', 'temp', 'feels_like', 'temp_min', 'temp_max', 'humidity',\n",
       "       'rain_1h', 'clouds_all', 'weather_description', 'dew_point', 'day',\n",
       "       'month', 'year', 'day_of_week', 'hour', 'isFeriado', 'hour_str', 'Data',\n",
       "       'is_weekend', 'Estacao_do_Ano', 'vacaciones', 'consumo_total',\n",
       "       'taxa_autoconsumo', 'hora_partida', 'injection_tentativa'],\n",
       "      dtype='object')"
      ]
     },
     "execution_count": 11,
     "metadata": {},
     "output_type": "execute_result"
    }
   ],
   "source": [
    "final.columns"
   ]
  },
  {
   "cell_type": "code",
   "execution_count": 12,
   "metadata": {},
   "outputs": [
    {
     "data": {
      "text/plain": [
       "0        00:00\n",
       "1        01:00\n",
       "2        02:00\n",
       "3        03:00\n",
       "4        04:00\n",
       "         ...  \n",
       "10267    19:00\n",
       "10268    20:00\n",
       "10269    21:00\n",
       "10270    22:00\n",
       "10271    23:00\n",
       "Name: hour_str, Length: 10271, dtype: object"
      ]
     },
     "execution_count": 12,
     "metadata": {},
     "output_type": "execute_result"
    }
   ],
   "source": [
    "final[\"hour_str\"]"
   ]
  },
  {
   "cell_type": "code",
   "execution_count": 13,
   "metadata": {},
   "outputs": [],
   "source": [
    "final['date'] = pd.to_datetime(final['date'])\n",
    "final_teste['date'] = pd.to_datetime(final_teste['date'])"
   ]
  },
  {
   "cell_type": "code",
   "execution_count": 14,
   "metadata": {},
   "outputs": [
    {
     "data": {
      "text/plain": [
       "date                     datetime64[ns]\n",
       "normal_consume                  float64\n",
       "consumption_in_period           float64\n",
       "autoconsume                     float64\n",
       "injection                         int64\n",
       "temp                            float64\n",
       "feels_like                      float64\n",
       "temp_min                        float64\n",
       "temp_max                        float64\n",
       "humidity                          int64\n",
       "rain_1h                         float64\n",
       "clouds_all                        int64\n",
       "weather_description               int64\n",
       "dew_point                       float64\n",
       "day                               int64\n",
       "month                             int64\n",
       "year                              int64\n",
       "day_of_week                       int64\n",
       "hour                              int32\n",
       "isFeriado                         int64\n",
       "hour_str                         object\n",
       "Data                             object\n",
       "is_weekend                         bool\n",
       "Estacao_do_Ano                    int64\n",
       "vacaciones                        int64\n",
       "consumo_total                   float64\n",
       "taxa_autoconsumo                float64\n",
       "hora_partida                      int32\n",
       "injection_tentativa             float64\n",
       "dtype: object"
      ]
     },
     "execution_count": 14,
     "metadata": {},
     "output_type": "execute_result"
    }
   ],
   "source": [
    "final.dtypes"
   ]
  },
  {
   "cell_type": "code",
   "execution_count": 15,
   "metadata": {},
   "outputs": [],
   "source": [
    "import ephem\n",
    "\n",
    "# Criar colunas auxiliares\n",
    "final['year'] = final['date'].dt.year\n",
    "final['month'] = final['date'].dt.month\n",
    "final['day'] = final['date'].dt.day\n",
    "final['hour'] = final['date'].dt.hour\n",
    "\n",
    "# Converter 'hour' para string formatada com dois dígitos\n",
    "final['hour_str'] = final['hour'].apply(lambda x: f'{x:02d}')\n",
    "\n",
    "# Converter 'hour_str' para inteiro\n",
    "final['hour_str'] = final['hour_str'].astype(int)\n",
    "\n",
    "\n",
    "# Função para verificar se está ensolarado\n",
    "def estava_sol(row):\n",
    "    observador = ephem.Observer()\n",
    "    observador.lat = '41.545449'  # Substitua pela latitude desejada\n",
    "    observador.lon = '-8.426507'  # Substitua pela longitude desejada\n",
    "\n",
    "    data_hora = ephem.Date(f'{row[\"year\"]:04d}/{row[\"month\"]:02d}/{row[\"day\"]:02d} {row[\"hour_str\"]:02d}:00')\n",
    "    observador.date = data_hora\n",
    "\n",
    "    sol = ephem.Sun()\n",
    "    sol.compute(observador)\n",
    "\n",
    "    # Retorna 1 se estiver ensolarado, 0 caso contrário\n",
    "    return int(sol.alt > 0)\n",
    "\n",
    "# Aplicar a função ao DataFrame\n",
    "final['is_sunny'] = final.apply(estava_sol, axis=1)"
   ]
  },
  {
   "cell_type": "code",
   "execution_count": 16,
   "metadata": {},
   "outputs": [],
   "source": [
    "import ephem\n",
    "\n",
    "# Criar colunas auxiliares\n",
    "final_teste['year'] = final_teste['date'].dt.year\n",
    "final_teste['month'] = final_teste['date'].dt.month\n",
    "final_teste['day'] = final_teste['date'].dt.day\n",
    "final_teste['hour'] = final_teste['date'].dt.hour\n",
    "\n",
    "# Converter 'hour' para string formatada com dois dígitos\n",
    "final_teste['hour_str'] = final_teste['hour'].apply(lambda x: f'{x:02d}')\n",
    "\n",
    "# Converter 'hour_str' para inteiro\n",
    "final_teste['hour_str'] = final_teste['hour_str'].astype(int)\n",
    "\n",
    "\n",
    "# Função para verificar se está ensolarado\n",
    "def estava_sol(row):\n",
    "    observador = ephem.Observer()\n",
    "    observador.lat = '41.545449'  # Substitua pela latitude desejada\n",
    "    observador.lon = '-8.426507'  # Substitua pela longitude desejada\n",
    "\n",
    "    data_hora = ephem.Date(f'{row[\"year\"]:04d}/{row[\"month\"]:02d}/{row[\"day\"]:02d} {row[\"hour_str\"]:02d}:00')\n",
    "    observador.date = data_hora\n",
    "\n",
    "    sol = ephem.Sun()\n",
    "    sol.compute(observador)\n",
    "\n",
    "    # Retorna 1 se estiver ensolarado, 0 caso contrário\n",
    "    return int(sol.alt > 0)\n",
    "\n",
    "\n",
    "# Aplicar a função ao DataFrame\n",
    "final_teste['is_sunny'] = final_teste.apply(estava_sol, axis=1)"
   ]
  },
  {
   "cell_type": "markdown",
   "metadata": {},
   "source": [
    "<h3 style=\"font-family: 'Times New Roman'\">Save DataSet</h3>"
   ]
  },
  {
   "cell_type": "code",
   "execution_count": 17,
   "metadata": {},
   "outputs": [],
   "source": [
    "final.to_csv(\"Ficheiros/Ficheiros_Pos_Pre_Processing/Final.csv\", index = False)\n",
    "final_teste.to_csv(\"Ficheiros/Ficheiros_Pos_Pre_Processing/Final_Teste.csv\", index = False)"
   ]
  }
 ],
 "metadata": {
  "kernelspec": {
   "display_name": "meuambiente",
   "language": "python",
   "name": "python3"
  },
  "language_info": {
   "codemirror_mode": {
    "name": "ipython",
    "version": 3
   },
   "file_extension": ".py",
   "mimetype": "text/x-python",
   "name": "python",
   "nbconvert_exporter": "python",
   "pygments_lexer": "ipython3",
   "version": "3.7.16"
  }
 },
 "nbformat": 4,
 "nbformat_minor": 2
}
