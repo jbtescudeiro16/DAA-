{
 "cells": [
  {
   "cell_type": "markdown",
   "metadata": {},
   "source": [
    "<center>\n",
    "<h1 style=\"font-family: 'Times New Roman', Times, serif; font-size: 60px;\">DAA</h1>\n",
    "<h2 style=\"font-family: 'Times New Roman', Times, serif; font-size: 40px;\">Gradient Boosting</h2>\n",
    "</center>\n",
    "\n",
    "<font face=\"Times New Roman\">"
   ]
  },
  {
   "cell_type": "markdown",
   "metadata": {},
   "source": [
    "<h3 style=\"font-family: 'Times New Roman'\">Imports</h3>"
   ]
  },
  {
   "cell_type": "code",
   "execution_count": 5,
   "metadata": {},
   "outputs": [],
   "source": [
    "# Import necessary libraries\n",
    "import pandas as pd                                                                                 # For data manipulation and analysis\n",
    "import matplotlib.pyplot as plt                                                                     # For data visualization\n",
    "import seaborn as sns                                                                               # For enhanced data visualization\n",
    "from sklearn.model_selection import train_test_split                                                # For splitting data\n",
    "from sklearn.ensemble import GradientBoostingClassifier                                             # For the Gradient Boosting classifier\n",
    "from sklearn.metrics import accuracy_score, confusion_matrix, classification_report, make_scorer    # For evaluating model performance\n",
    "from sklearn.model_selection import cross_val_score, cross_val_predict, GridSearchCV                # For cross-validation\n",
    "import os                                                                                           # For interacting with the operating system"
   ]
  },
  {
   "cell_type": "markdown",
   "metadata": {},
   "source": [
    "<h3 style=\"font-family: 'Times New Roman'\">Load All Datasets</h3>"
   ]
  },
  {
   "cell_type": "code",
   "execution_count": 6,
   "metadata": {},
   "outputs": [],
   "source": [
    "final = pd.read_csv(\"Ficheiros/Ficheiros_Models/Final.csv\", na_filter = False)\n",
    "final_teste = pd.read_csv(\"Ficheiros/Ficheiros_Models/Final_Teste.csv\")"
   ]
  },
  {
   "cell_type": "markdown",
   "metadata": {},
   "source": [
    "<h3 style=\"font-family: 'Times New Roman'\">Gradient Boosting</h3>"
   ]
  },
  {
   "cell_type": "markdown",
   "metadata": {},
   "source": [
    "<h4 style=\"font-family: 'Times New Roman'\">Test Locally</h4>"
   ]
  },
  {
   "cell_type": "code",
   "execution_count": 7,
   "metadata": {},
   "outputs": [],
   "source": [
    "X = final.drop(columns=['injection'])\n",
    "y = final['injection']"
   ]
  },
  {
   "cell_type": "code",
   "execution_count": 8,
   "metadata": {},
   "outputs": [],
   "source": [
    "# Split the test data\n",
    "X_train, X_test, y_train, y_test = train_test_split(X, y, test_size=0.3, random_state=2024)\n",
    "\n",
    "param_grid = {\n",
    "    'n_estimators': [100, 200, 500, 700, 1000, 1200],  # Adjust the number of estimators\n",
    "    'learning_rate': [0.1, 0.01, 0.001],  # Adjust the learning rate\n",
    "    'max_depth': [5, 10, 15, 20, 25],  # Adjust the maximum depth of the trees\n",
    "    'subsample': [0.9, 1.0],  # Adjust the subsample ratio\n",
    "    'min_samples_split': [10, 15, 20], # Adjust the minimum samples required to split an internal node\n",
    "    'min_samples_leaf': [1, 2, 3, 5, 10] \n",
    "}\n",
    "\n",
    "modelo = GradientBoostingClassifier(random_state=2024)\n",
    "scoring = make_scorer(accuracy_score)\n",
    "cv_value = 3\n",
    "grid_accuracy = GridSearchCV(estimator=modelo, param_grid=param_grid, scoring=scoring, cv=cv_value, refit=True)\n",
    "\n",
    "grid_accuracy.fit(X_train, y_train)\n",
    "\n",
    "# Get the best model\n",
    "best_model = grid_accuracy.best_estimator_\n",
    "best_model_params = best_model.get_params()\n",
    "\n",
    "print(\"Hyperparameters of the Best Model:\")\n",
    "for param, value in best_model_params.items():\n",
    "    print(f\"{param}: {value}\")\n",
    "\n",
    "# Predict on the test set\n",
    "y_pred = best_model.predict(X_test)\n",
    "\n",
    "# Print the cross-validated accuracy scores\n",
    "cv_scores = grid_accuracy.cv_results_['mean_test_score']\n",
    "# print(\"Cross-validated Accuracy Scores: {}\".format(cv_scores))\n",
    "print(\"Mean Accuracy: {:.2f}%\".format(cv_scores.mean() * 100))\n",
    "\n",
    "# Get accuracy on the test set\n",
    "accuracy_injection = accuracy_score(y_test, y_pred)\n",
    "print(\"Random Forest Model Accuracy: {:.2f}%\".format(accuracy_injection * 100))\n",
    "\n",
    "# Display classification report\n",
    "classification_report_str = classification_report(y_test, y_pred)\n",
    "print(\"Classification Report:\\n\", classification_report_str)\n",
    "\n",
    "# Calculate confusion matrix\n",
    "cm = confusion_matrix(y_test, y_pred)\n",
    "\n",
    "# Define a custom color palette\n",
    "color_palette = sns.light_palette(\"seagreen\", as_cmap=True)\n",
    "\n",
    "# Plot confusion matrix as a heatmap\n",
    "plt.figure(figsize=(10, 8))\n",
    "sns.heatmap(cm, annot=True, fmt='d', cmap=color_palette, cbar=False)\n",
    "\n",
    "# Add labels and title\n",
    "plt.title('Confusion Matrix')\n",
    "plt.xlabel('Predicted Label')\n",
    "plt.ylabel('True Label')\n",
    "\n",
    "# Customize tick labels\n",
    "tick_labels = ['None', 'Low', 'Medium', 'High', 'Very High']\n",
    "plt.xticks(ticks=range(len(tick_labels)), labels=tick_labels)\n",
    "plt.yticks(ticks=range(len(tick_labels)), labels=tick_labels)\n",
    "\n",
    "plt.show()"
   ]
  },
  {
   "cell_type": "markdown",
   "metadata": {},
   "source": [
    "<h4 style=\"font-family: 'Times New Roman'\">Kaggle</h4>"
   ]
  },
  {
   "cell_type": "code",
   "execution_count": null,
   "metadata": {},
   "outputs": [],
   "source": [
    "final_kaggle = pd.read_csv(\"Ficheiros/Ficheiros_Models/Final.csv\", na_filter = False)\n",
    "final_teste_kaggle = pd.read_csv(\"Ficheiros/Ficheiros_Models/Final_Teste.csv\")"
   ]
  },
  {
   "cell_type": "code",
   "execution_count": null,
   "metadata": {},
   "outputs": [],
   "source": [
    "X_kaggle = final_kaggle.drop(columns=['injection'])\n",
    "y_kaggle = final_kaggle['injection']"
   ]
  },
  {
   "cell_type": "code",
   "execution_count": null,
   "metadata": {},
   "outputs": [],
   "source": [
    "# Define the Gradient Boosting parameter grid for hyperparameter tuning\n",
    "param_grid_kaggle = {\n",
    "    'n_estimators': [200],  # Adjust the number of estimators\n",
    "    'learning_rate': [0.01],  # Adjust the learning rate\n",
    "    'max_depth': [5],  # Adjust the maximum depth of the trees\n",
    "    'subsample': [0.9],  # Adjust the subsample ratio\n",
    "    'min_samples_split': [15]  # Adjust the minimum samples required to split an internal node\n",
    "}\n",
    "\n",
    "modelo_kaggle = GradientBoostingClassifier(random_state=2023)\n",
    "scoring_kaggle = make_scorer(accuracy_score)\n",
    "cv_value_kaggle = 10\n",
    "grid_accuracy_kaggle = GridSearchCV(estimator=modelo_kaggle, param_grid=param_grid_kaggle, scoring=scoring_kaggle, cv=cv_value_kaggle, refit=True)\n",
    "\n",
    "grid_accuracy_kaggle.fit(X_kaggle, y_kaggle)\n",
    "\n",
    "best_model_kaggle = grid_accuracy_kaggle.best_estimator_\n",
    "X_teste_kaggle = final_teste\n",
    "y_pred_kaggle = best_model_kaggle.predict(X_teste_kaggle)"
   ]
  },
  {
   "cell_type": "code",
   "execution_count": null,
   "metadata": {},
   "outputs": [],
   "source": [
    "reverse_mapping = {0: 'None', 1: 'Low', 2: 'Medium', 3: 'High', 4: 'Very High'}\n",
    "\n",
    "# Aplica o mapeamento inverso às previsões 'y_pred'\n",
    "y_pred_kaggle = [reverse_mapping[pred] for pred in y_pred_kaggle]"
   ]
  },
  {
   "cell_type": "code",
   "execution_count": null,
   "metadata": {},
   "outputs": [
    {
     "name": "stdout",
     "output_type": "stream",
     "text": [
      "Previsões salvas em Gradient_Boosting.csv\n"
     ]
    }
   ],
   "source": [
    "# Salvar as previsões em 'prediction_results.csv'\n",
    "with open('Outputs/Gradient_Boosting.csv', 'w') as file:\n",
    "    file.write(\"RowId,Result\\n\")\n",
    "    for row_id, prediction in enumerate(y_pred_kaggle, start=1):\n",
    "        file.write(f\"{row_id},{prediction}\\n\")\n",
    "\n",
    "print(\"Previsões salvas em Gradient_Boosting.csv\")"
   ]
  }
 ],
 "metadata": {
  "kernelspec": {
   "display_name": "meuambiente",
   "language": "python",
   "name": "python3"
  },
  "language_info": {
   "codemirror_mode": {
    "name": "ipython",
    "version": 3
   },
   "file_extension": ".py",
   "mimetype": "text/x-python",
   "name": "python",
   "nbconvert_exporter": "python",
   "pygments_lexer": "ipython3",
   "version": "3.11.5"
  }
 },
 "nbformat": 4,
 "nbformat_minor": 2
}
