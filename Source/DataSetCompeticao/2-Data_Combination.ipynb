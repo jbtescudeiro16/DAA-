{
 "cells": [
  {
   "cell_type": "markdown",
   "metadata": {},
   "source": [
    "<center>\n",
    "<h1 style=\"font-family: 'Times New Roman', Times, serif; font-size: 60px;\">DAA</h1>\n",
    "<h2 style=\"font-family: 'Times New Roman', Times, serif; font-size: 40px;\">Data Combination</h2>\n",
    "</center>\n",
    "\n",
    "<font face=\"Times New Roman\">"
   ]
  },
  {
   "cell_type": "markdown",
   "metadata": {},
   "source": [
    "<h3 style=\"font-family: 'Times New Roman'\">Imports</h3>"
   ]
  },
  {
   "cell_type": "code",
   "execution_count": 1,
   "metadata": {},
   "outputs": [],
   "source": [
    "# Import necessary libraries\n",
    "import pandas as pd              # Import pandas for data manipulation and analysis"
   ]
  },
  {
   "cell_type": "markdown",
   "metadata": {},
   "source": [
    "<h3 style=\"font-family: 'Times New Roman'\">Load All Datasets</h3>"
   ]
  },
  {
   "cell_type": "code",
   "execution_count": 2,
   "metadata": {},
   "outputs": [],
   "source": [
    "meteo21 = pd.read_csv('Ficheiros/Ficheiros_Iniciais/meteo_202109-202112.csv')"
   ]
  },
  {
   "cell_type": "code",
   "execution_count": 3,
   "metadata": {},
   "outputs": [],
   "source": [
    "meteo22 = pd.read_csv('Ficheiros/Ficheiros_Iniciais/meteo_202201-202212.csv')"
   ]
  },
  {
   "cell_type": "code",
   "execution_count": 4,
   "metadata": {},
   "outputs": [],
   "source": [
    "meteoteste = pd.read_csv('Ficheiros/Ficheiros_Iniciais/meteo_202301-202304.csv')"
   ]
  },
  {
   "cell_type": "code",
   "execution_count": 5,
   "metadata": {},
   "outputs": [],
   "source": [
    "energy21 = pd.read_csv('Ficheiros/Ficheiros_Iniciais/energia_202109-202112.csv', na_filter = False)"
   ]
  },
  {
   "cell_type": "code",
   "execution_count": 6,
   "metadata": {},
   "outputs": [],
   "source": [
    "energy22 = pd.read_csv('Ficheiros/Ficheiros_Iniciais/energia_202201_202212.csv', na_filter = False)"
   ]
  },
  {
   "cell_type": "code",
   "execution_count": 7,
   "metadata": {},
   "outputs": [],
   "source": [
    "energyteste = pd.read_csv('Ficheiros/Ficheiros_Iniciais/energia_202301-202304.csv', na_filter = False)"
   ]
  },
  {
   "cell_type": "code",
   "execution_count": 8,
   "metadata": {},
   "outputs": [],
   "source": [
    "braga = pd.read_csv(\"Ficheiros/Ficheiros_Finais/Braga.csv\")"
   ]
  },
  {
   "cell_type": "markdown",
   "metadata": {},
   "source": [
    "<h3 style=\"font-family: 'Times New Roman'\">Exploratory Data Analysis</h3>"
   ]
  },
  {
   "cell_type": "code",
   "execution_count": 9,
   "metadata": {},
   "outputs": [
    {
     "name": "stdout",
     "output_type": "stream",
     "text": [
      "Columns:\n",
      "1 -> 'dt'\n",
      "2 -> 'dt_iso'\n",
      "3 -> 'city_name'\n",
      "4 -> 'temp'\n",
      "5 -> 'feels_like'\n",
      "6 -> 'temp_min'\n",
      "7 -> 'temp_max'\n",
      "8 -> 'pressure'\n",
      "9 -> 'sea_level'\n",
      "10 -> 'grnd_level'\n",
      "11 -> 'humidity'\n",
      "12 -> 'wind_speed'\n",
      "13 -> 'rain_1h'\n",
      "14 -> 'clouds_all'\n",
      "15 -> 'weather_description'\n"
     ]
    }
   ],
   "source": [
    "# Get the column names as a list\n",
    "column_names_meteo21 = meteo21.columns.to_list()\n",
    "\n",
    "# Print the column names one by one with a number\n",
    "print('Columns:')\n",
    "for i, column in enumerate(column_names_meteo21, 1):\n",
    "    print(f\"{i} -> '{column}'\")"
   ]
  },
  {
   "cell_type": "code",
   "execution_count": 10,
   "metadata": {},
   "outputs": [
    {
     "name": "stdout",
     "output_type": "stream",
     "text": [
      "Columns:\n",
      "1 -> 'dt'\n",
      "2 -> 'dt_iso'\n",
      "3 -> 'city_name'\n",
      "4 -> 'temp'\n",
      "5 -> 'feels_like'\n",
      "6 -> 'temp_min'\n",
      "7 -> 'temp_max'\n",
      "8 -> 'pressure'\n",
      "9 -> 'sea_level'\n",
      "10 -> 'grnd_level'\n",
      "11 -> 'humidity'\n",
      "12 -> 'wind_speed'\n",
      "13 -> 'rain_1h'\n",
      "14 -> 'clouds_all'\n",
      "15 -> 'weather_description'\n"
     ]
    }
   ],
   "source": [
    "# Get the column names as a list\n",
    "column_names_meteo22 = meteo22.columns.to_list()\n",
    "\n",
    "# Print the column names one by one with a number\n",
    "print('Columns:')\n",
    "for i, column in enumerate(column_names_meteo22, 1):\n",
    "    print(f\"{i} -> '{column}'\")"
   ]
  },
  {
   "cell_type": "code",
   "execution_count": 11,
   "metadata": {},
   "outputs": [
    {
     "name": "stdout",
     "output_type": "stream",
     "text": [
      "Columns:\n",
      "1 -> 'dt'\n",
      "2 -> 'dt_iso'\n",
      "3 -> 'city_name'\n",
      "4 -> 'temp'\n",
      "5 -> 'feels_like'\n",
      "6 -> 'temp_min'\n",
      "7 -> 'temp_max'\n",
      "8 -> 'pressure'\n",
      "9 -> 'sea_level'\n",
      "10 -> 'grnd_level'\n",
      "11 -> 'humidity'\n",
      "12 -> 'wind_speed'\n",
      "13 -> 'rain_1h'\n",
      "14 -> 'clouds_all'\n",
      "15 -> 'weather_description'\n"
     ]
    }
   ],
   "source": [
    "# Get the column names as a list\n",
    "column_names_meteoteste = meteoteste.columns.to_list()\n",
    "\n",
    "# Print the column names one by one with a number\n",
    "print('Columns:')\n",
    "for i, column in enumerate(column_names_meteoteste, 1):\n",
    "    print(f\"{i} -> '{column}'\")"
   ]
  },
  {
   "cell_type": "code",
   "execution_count": 12,
   "metadata": {},
   "outputs": [
    {
     "name": "stdout",
     "output_type": "stream",
     "text": [
      "Columns:\n",
      "1 -> 'date'\n",
      "2 -> 'temp'\n",
      "3 -> 'feels_like'\n",
      "4 -> 'temp_min'\n",
      "5 -> 'temp_max'\n",
      "6 -> 'pressure'\n",
      "7 -> 'humidity'\n",
      "8 -> 'wind_speed'\n",
      "9 -> 'rain_1h'\n",
      "10 -> 'clouds_all'\n",
      "11 -> 'weather_description'\n"
     ]
    }
   ],
   "source": [
    "# Get the column names as a list\n",
    "column_names_braga = braga.columns.to_list()\n",
    "\n",
    "# Print the column names one by one with a number\n",
    "print('Columns:')\n",
    "for i, column in enumerate(column_names_braga, 1):\n",
    "    print(f\"{i} -> '{column}'\")"
   ]
  },
  {
   "cell_type": "code",
   "execution_count": 13,
   "metadata": {},
   "outputs": [
    {
     "name": "stdout",
     "output_type": "stream",
     "text": [
      "Columns:\n",
      "1 -> 'Data'\n",
      "2 -> 'Hora'\n",
      "3 -> 'Normal (kWh)'\n",
      "4 -> 'Horario Economico (kWh)'\n",
      "5 -> 'Autoconsumo (kWh)'\n",
      "6 -> 'Injecao na rede (kWh)'\n"
     ]
    }
   ],
   "source": [
    "# Get the column names as a list\n",
    "column_names_energy21 = energy21.columns.to_list()\n",
    "\n",
    "# Print the column names one by one with a number\n",
    "print('Columns:')\n",
    "for i, column in enumerate(column_names_energy21, 1):\n",
    "    print(f\"{i} -> '{column}'\")"
   ]
  },
  {
   "cell_type": "code",
   "execution_count": 14,
   "metadata": {},
   "outputs": [
    {
     "name": "stdout",
     "output_type": "stream",
     "text": [
      "Columns:\n",
      "1 -> 'Data'\n",
      "2 -> 'Hora'\n",
      "3 -> 'Normal (kWh)'\n",
      "4 -> 'Horario Economico (kWh)'\n",
      "5 -> 'Autoconsumo (kWh)'\n",
      "6 -> 'Injecao na rede (kWh)'\n"
     ]
    }
   ],
   "source": [
    "# Get the column names as a list\n",
    "column_names_energy22 = energy22.columns.to_list()\n",
    "\n",
    "# Print the column names one by one with a number\n",
    "print('Columns:')\n",
    "for i, column in enumerate(column_names_energy22, 1):\n",
    "    print(f\"{i} -> '{column}'\")"
   ]
  },
  {
   "cell_type": "code",
   "execution_count": 15,
   "metadata": {},
   "outputs": [
    {
     "name": "stdout",
     "output_type": "stream",
     "text": [
      "Columns:\n",
      "1 -> 'Data'\n",
      "2 -> 'Hora'\n",
      "3 -> 'Normal (kWh)'\n",
      "4 -> 'Horario Economico (kWh)'\n",
      "5 -> 'Autoconsumo (kWh)'\n"
     ]
    }
   ],
   "source": [
    "# Get the column names as a list\n",
    "column_names_energyteste = energyteste.columns.to_list()\n",
    "\n",
    "# Print the column names one by one with a number\n",
    "print('Columns:')\n",
    "for i, column in enumerate(column_names_energyteste, 1):\n",
    "    print(f\"{i} -> '{column}'\")"
   ]
  },
  {
   "cell_type": "code",
   "execution_count": 16,
   "metadata": {},
   "outputs": [
    {
     "name": "stdout",
     "output_type": "stream",
     "text": [
      "<class 'pandas.core.frame.DataFrame'>\n",
      "RangeIndex: 2928 entries, 0 to 2927\n",
      "Data columns (total 15 columns):\n",
      " #   Column               Non-Null Count  Dtype  \n",
      "---  ------               --------------  -----  \n",
      " 0   dt                   2928 non-null   int64  \n",
      " 1   dt_iso               2928 non-null   object \n",
      " 2   city_name            2928 non-null   object \n",
      " 3   temp                 2928 non-null   float64\n",
      " 4   feels_like           2928 non-null   float64\n",
      " 5   temp_min             2928 non-null   float64\n",
      " 6   temp_max             2928 non-null   float64\n",
      " 7   pressure             2928 non-null   int64  \n",
      " 8   sea_level            0 non-null      float64\n",
      " 9   grnd_level           0 non-null      float64\n",
      " 10  humidity             2928 non-null   int64  \n",
      " 11  wind_speed           2928 non-null   float64\n",
      " 12  rain_1h              537 non-null    float64\n",
      " 13  clouds_all           2928 non-null   int64  \n",
      " 14  weather_description  2928 non-null   object \n",
      "dtypes: float64(8), int64(4), object(3)\n",
      "memory usage: 343.3+ KB\n"
     ]
    }
   ],
   "source": [
    "meteo21.info()"
   ]
  },
  {
   "cell_type": "code",
   "execution_count": 17,
   "metadata": {},
   "outputs": [
    {
     "name": "stdout",
     "output_type": "stream",
     "text": [
      "<class 'pandas.core.frame.DataFrame'>\n",
      "RangeIndex: 8760 entries, 0 to 8759\n",
      "Data columns (total 15 columns):\n",
      " #   Column               Non-Null Count  Dtype  \n",
      "---  ------               --------------  -----  \n",
      " 0   dt                   8760 non-null   int64  \n",
      " 1   dt_iso               8760 non-null   object \n",
      " 2   city_name            8760 non-null   object \n",
      " 3   temp                 8760 non-null   float64\n",
      " 4   feels_like           8760 non-null   float64\n",
      " 5   temp_min             8760 non-null   float64\n",
      " 6   temp_max             8760 non-null   float64\n",
      " 7   pressure             8760 non-null   int64  \n",
      " 8   sea_level            0 non-null      float64\n",
      " 9   grnd_level           0 non-null      float64\n",
      " 10  humidity             8760 non-null   int64  \n",
      " 11  wind_speed           8760 non-null   float64\n",
      " 12  rain_1h              1898 non-null   float64\n",
      " 13  clouds_all           8760 non-null   int64  \n",
      " 14  weather_description  8760 non-null   object \n",
      "dtypes: float64(8), int64(4), object(3)\n",
      "memory usage: 1.0+ MB\n"
     ]
    }
   ],
   "source": [
    "meteo22.info()"
   ]
  },
  {
   "cell_type": "code",
   "execution_count": 18,
   "metadata": {},
   "outputs": [
    {
     "name": "stdout",
     "output_type": "stream",
     "text": [
      "<class 'pandas.core.frame.DataFrame'>\n",
      "RangeIndex: 1752 entries, 0 to 1751\n",
      "Data columns (total 15 columns):\n",
      " #   Column               Non-Null Count  Dtype  \n",
      "---  ------               --------------  -----  \n",
      " 0   dt                   1752 non-null   int64  \n",
      " 1   dt_iso               1752 non-null   object \n",
      " 2   city_name            1752 non-null   object \n",
      " 3   temp                 1752 non-null   float64\n",
      " 4   feels_like           1752 non-null   float64\n",
      " 5   temp_min             1752 non-null   float64\n",
      " 6   temp_max             1752 non-null   float64\n",
      " 7   pressure             1752 non-null   int64  \n",
      " 8   sea_level            0 non-null      float64\n",
      " 9   grnd_level           0 non-null      float64\n",
      " 10  humidity             1752 non-null   int64  \n",
      " 11  wind_speed           1752 non-null   float64\n",
      " 12  rain_1h              206 non-null    float64\n",
      " 13  clouds_all           1752 non-null   int64  \n",
      " 14  weather_description  1752 non-null   object \n",
      "dtypes: float64(8), int64(4), object(3)\n",
      "memory usage: 205.4+ KB\n"
     ]
    }
   ],
   "source": [
    "meteoteste.info()"
   ]
  },
  {
   "cell_type": "code",
   "execution_count": 19,
   "metadata": {},
   "outputs": [
    {
     "name": "stdout",
     "output_type": "stream",
     "text": [
      "<class 'pandas.core.frame.DataFrame'>\n",
      "RangeIndex: 504 entries, 0 to 503\n",
      "Data columns (total 11 columns):\n",
      " #   Column               Non-Null Count  Dtype  \n",
      "---  ------               --------------  -----  \n",
      " 0   date                 504 non-null    object \n",
      " 1   temp                 504 non-null    float64\n",
      " 2   feels_like           504 non-null    float64\n",
      " 3   temp_min             504 non-null    float64\n",
      " 4   temp_max             504 non-null    float64\n",
      " 5   pressure             504 non-null    int64  \n",
      " 6   humidity             504 non-null    int64  \n",
      " 7   wind_speed           504 non-null    float64\n",
      " 8   rain_1h              100 non-null    float64\n",
      " 9   clouds_all           504 non-null    int64  \n",
      " 10  weather_description  504 non-null    object \n",
      "dtypes: float64(6), int64(3), object(2)\n",
      "memory usage: 43.4+ KB\n"
     ]
    }
   ],
   "source": [
    "braga.info()"
   ]
  },
  {
   "cell_type": "code",
   "execution_count": 20,
   "metadata": {},
   "outputs": [
    {
     "name": "stdout",
     "output_type": "stream",
     "text": [
      "<class 'pandas.core.frame.DataFrame'>\n",
      "RangeIndex: 2256 entries, 0 to 2255\n",
      "Data columns (total 6 columns):\n",
      " #   Column                   Non-Null Count  Dtype  \n",
      "---  ------                   --------------  -----  \n",
      " 0   Data                     2256 non-null   object \n",
      " 1   Hora                     2256 non-null   int64  \n",
      " 2   Normal (kWh)             2256 non-null   float64\n",
      " 3   Horario Economico (kWh)  2256 non-null   float64\n",
      " 4   Autoconsumo (kWh)        2256 non-null   float64\n",
      " 5   Injecao na rede (kWh)    2256 non-null   object \n",
      "dtypes: float64(3), int64(1), object(2)\n",
      "memory usage: 105.9+ KB\n"
     ]
    }
   ],
   "source": [
    "energy21.info()"
   ]
  },
  {
   "cell_type": "code",
   "execution_count": 21,
   "metadata": {},
   "outputs": [
    {
     "name": "stdout",
     "output_type": "stream",
     "text": [
      "<class 'pandas.core.frame.DataFrame'>\n",
      "RangeIndex: 8760 entries, 0 to 8759\n",
      "Data columns (total 6 columns):\n",
      " #   Column                   Non-Null Count  Dtype  \n",
      "---  ------                   --------------  -----  \n",
      " 0   Data                     8760 non-null   object \n",
      " 1   Hora                     8760 non-null   int64  \n",
      " 2   Normal (kWh)             8760 non-null   float64\n",
      " 3   Horario Economico (kWh)  8760 non-null   float64\n",
      " 4   Autoconsumo (kWh)        8760 non-null   float64\n",
      " 5   Injecao na rede (kWh)    8760 non-null   object \n",
      "dtypes: float64(3), int64(1), object(2)\n",
      "memory usage: 410.8+ KB\n"
     ]
    }
   ],
   "source": [
    "energy22.info()"
   ]
  },
  {
   "cell_type": "code",
   "execution_count": 22,
   "metadata": {},
   "outputs": [
    {
     "name": "stdout",
     "output_type": "stream",
     "text": [
      "<class 'pandas.core.frame.DataFrame'>\n",
      "RangeIndex: 2256 entries, 0 to 2255\n",
      "Data columns (total 5 columns):\n",
      " #   Column                   Non-Null Count  Dtype  \n",
      "---  ------                   --------------  -----  \n",
      " 0   Data                     2256 non-null   object \n",
      " 1   Hora                     2256 non-null   int64  \n",
      " 2   Normal (kWh)             2256 non-null   float64\n",
      " 3   Horario Economico (kWh)  2256 non-null   float64\n",
      " 4   Autoconsumo (kWh)        2256 non-null   float64\n",
      "dtypes: float64(3), int64(1), object(1)\n",
      "memory usage: 88.3+ KB\n"
     ]
    }
   ],
   "source": [
    "energyteste.info()"
   ]
  },
  {
   "cell_type": "markdown",
   "metadata": {},
   "source": [
    "<h3 style=\"font-family: 'Times New Roman'\">Data Transformation</h3>"
   ]
  },
  {
   "cell_type": "code",
   "execution_count": 23,
   "metadata": {},
   "outputs": [],
   "source": [
    "meteo21.rename(columns={\n",
    "    'dt': 'timestamp',\n",
    "    'dt_iso': 'date',\n",
    "    'city_name': 'city',\n",
    "}, inplace=True)"
   ]
  },
  {
   "cell_type": "code",
   "execution_count": 24,
   "metadata": {},
   "outputs": [],
   "source": [
    "meteo22.rename(columns={\n",
    "    'dt': 'timestamp',\n",
    "    'dt_iso': 'date',\n",
    "    'city_name': 'city',\n",
    "}, inplace=True)"
   ]
  },
  {
   "cell_type": "code",
   "execution_count": 25,
   "metadata": {},
   "outputs": [],
   "source": [
    "meteoteste.rename(columns={\n",
    "    'dt': 'timestamp',\n",
    "    'dt_iso': 'date',\n",
    "    'city_name': 'city',\n",
    "}, inplace=True)"
   ]
  },
  {
   "cell_type": "code",
   "execution_count": 26,
   "metadata": {},
   "outputs": [],
   "source": [
    "meteo21['date'] = meteo21['date'].str.replace(' \\+\\d+ UTC', '', regex=True)\n",
    "meteo21['date'] = meteo21['date'].str.replace(':[0-9][0-9]$', '', regex=True)"
   ]
  },
  {
   "cell_type": "code",
   "execution_count": 27,
   "metadata": {},
   "outputs": [],
   "source": [
    "meteo22['date'] = meteo22['date'].str.replace(' \\+\\d+ UTC', '', regex=True)\n",
    "meteo22['date'] = meteo22['date'].str.replace(':[0-9][0-9]$', '', regex=True)"
   ]
  },
  {
   "cell_type": "code",
   "execution_count": 28,
   "metadata": {},
   "outputs": [],
   "source": [
    "meteoteste['date'] = meteoteste['date'].str.replace(' \\+\\d+ UTC', '', regex=True)\n",
    "meteoteste['date'] = meteoteste['date'].str.replace(':[0-9][0-9]$', '', regex=True)"
   ]
  },
  {
   "cell_type": "code",
   "execution_count": 29,
   "metadata": {},
   "outputs": [],
   "source": [
    "energy21.rename(columns={\n",
    "    'Data': 'date',\n",
    "    'Hora': 'hour',\n",
    "    'Normal (kWh)': 'normal_consume',\n",
    "    'Horario Economico (kWh)': 'consumption_in_period',\n",
    "    'Autoconsumo (kWh)': 'autoconsume',\n",
    "    'Injecao na rede (kWh)': 'injection',\n",
    "}, inplace=True)"
   ]
  },
  {
   "cell_type": "code",
   "execution_count": 30,
   "metadata": {},
   "outputs": [],
   "source": [
    "energy22.rename(columns={\n",
    "    'Data': 'date',\n",
    "    'Hora': 'hour',\n",
    "    'Normal (kWh)': 'normal_consume',\n",
    "    'Horario Economico (kWh)': 'consumption_in_period',\n",
    "    'Autoconsumo (kWh)': 'autoconsume',\n",
    "    'Injecao na rede (kWh)': 'injection',\n",
    "}, inplace=True)"
   ]
  },
  {
   "cell_type": "code",
   "execution_count": 31,
   "metadata": {},
   "outputs": [],
   "source": [
    "energyteste.rename(columns={\n",
    "    'Data': 'date',\n",
    "    'Hora': 'hour',\n",
    "    'Normal (kWh)': 'normal_consume',\n",
    "    'Horario Economico (kWh)': 'consumption_in_period',\n",
    "    'Autoconsumo (kWh)': 'autoconsume',\n",
    "    'Injecao na rede (kWh)': 'injection',\n",
    "}, inplace=True)"
   ]
  },
  {
   "cell_type": "code",
   "execution_count": 32,
   "metadata": {},
   "outputs": [],
   "source": [
    "energy21['hour'] = energy21['hour'].astype(str).str.zfill(2)\n",
    "energy21['date'] = energy21['date'] + ' ' + energy21['hour'] + ':00'\n",
    "energy21 = energy21.drop(columns=['hour'])"
   ]
  },
  {
   "cell_type": "code",
   "execution_count": 33,
   "metadata": {},
   "outputs": [],
   "source": [
    "energy22['hour'] = energy22['hour'].astype(str).str.zfill(2)\n",
    "energy22['date'] = energy22['date'] + ' ' + energy22['hour'] + ':00'\n",
    "energy22 = energy22.drop(columns=['hour'])"
   ]
  },
  {
   "cell_type": "code",
   "execution_count": 34,
   "metadata": {},
   "outputs": [],
   "source": [
    "energyteste['hour'] = energyteste['hour'].astype(str).str.zfill(2)\n",
    "energyteste['date'] = energyteste['date'] + ' ' + energyteste['hour'] + ':00'\n",
    "energyteste = energyteste.drop(columns=['hour'])"
   ]
  },
  {
   "cell_type": "code",
   "execution_count": 35,
   "metadata": {},
   "outputs": [],
   "source": [
    "meteo21 = meteo21.drop(columns=['city',\n",
    "                                   'timestamp',\n",
    "                                   'sea_level',\n",
    "                                   'grnd_level'])"
   ]
  },
  {
   "cell_type": "code",
   "execution_count": 36,
   "metadata": {},
   "outputs": [],
   "source": [
    "meteo22 = meteo22.drop(columns=['city',\n",
    "                                      'timestamp',\n",
    "                                      'sea_level',\n",
    "                                      'grnd_level'])"
   ]
  },
  {
   "cell_type": "code",
   "execution_count": 37,
   "metadata": {},
   "outputs": [],
   "source": [
    "meteoteste = meteoteste.drop(columns=['city',\n",
    "                                      'timestamp',\n",
    "                                      'sea_level',\n",
    "                                      'grnd_level'])"
   ]
  },
  {
   "cell_type": "markdown",
   "metadata": {},
   "source": [
    "<h3 style=\"font-family: 'Times New Roman'\">Exploratory Data Analysis</h3>"
   ]
  },
  {
   "cell_type": "code",
   "execution_count": 38,
   "metadata": {},
   "outputs": [
    {
     "data": {
      "text/plain": [
       "Index(['date', 'temp', 'feels_like', 'temp_min', 'temp_max', 'pressure',\n",
       "       'humidity', 'wind_speed', 'rain_1h', 'clouds_all',\n",
       "       'weather_description'],\n",
       "      dtype='object')"
      ]
     },
     "execution_count": 38,
     "metadata": {},
     "output_type": "execute_result"
    }
   ],
   "source": [
    "meteo21.columns"
   ]
  },
  {
   "cell_type": "code",
   "execution_count": 39,
   "metadata": {},
   "outputs": [
    {
     "data": {
      "text/plain": [
       "Index(['date', 'temp', 'feels_like', 'temp_min', 'temp_max', 'pressure',\n",
       "       'humidity', 'wind_speed', 'rain_1h', 'clouds_all',\n",
       "       'weather_description'],\n",
       "      dtype='object')"
      ]
     },
     "execution_count": 39,
     "metadata": {},
     "output_type": "execute_result"
    }
   ],
   "source": [
    "meteo22.columns"
   ]
  },
  {
   "cell_type": "code",
   "execution_count": 40,
   "metadata": {},
   "outputs": [
    {
     "data": {
      "text/plain": [
       "Index(['date', 'temp', 'feels_like', 'temp_min', 'temp_max', 'pressure',\n",
       "       'humidity', 'wind_speed', 'rain_1h', 'clouds_all',\n",
       "       'weather_description'],\n",
       "      dtype='object')"
      ]
     },
     "execution_count": 40,
     "metadata": {},
     "output_type": "execute_result"
    }
   ],
   "source": [
    "meteoteste.columns"
   ]
  },
  {
   "cell_type": "code",
   "execution_count": 41,
   "metadata": {},
   "outputs": [
    {
     "data": {
      "text/plain": [
       "Index(['date', 'temp', 'feels_like', 'temp_min', 'temp_max', 'pressure',\n",
       "       'humidity', 'wind_speed', 'rain_1h', 'clouds_all',\n",
       "       'weather_description'],\n",
       "      dtype='object')"
      ]
     },
     "execution_count": 41,
     "metadata": {},
     "output_type": "execute_result"
    }
   ],
   "source": [
    "braga.columns"
   ]
  },
  {
   "cell_type": "code",
   "execution_count": 42,
   "metadata": {},
   "outputs": [
    {
     "data": {
      "text/plain": [
       "Index(['date', 'normal_consume', 'consumption_in_period', 'autoconsume',\n",
       "       'injection'],\n",
       "      dtype='object')"
      ]
     },
     "execution_count": 42,
     "metadata": {},
     "output_type": "execute_result"
    }
   ],
   "source": [
    "energy21.columns"
   ]
  },
  {
   "cell_type": "code",
   "execution_count": 43,
   "metadata": {},
   "outputs": [
    {
     "data": {
      "text/plain": [
       "Index(['date', 'normal_consume', 'consumption_in_period', 'autoconsume',\n",
       "       'injection'],\n",
       "      dtype='object')"
      ]
     },
     "execution_count": 43,
     "metadata": {},
     "output_type": "execute_result"
    }
   ],
   "source": [
    "energy22.columns"
   ]
  },
  {
   "cell_type": "code",
   "execution_count": 44,
   "metadata": {},
   "outputs": [
    {
     "data": {
      "text/plain": [
       "Index(['date', 'normal_consume', 'consumption_in_period', 'autoconsume'], dtype='object')"
      ]
     },
     "execution_count": 44,
     "metadata": {},
     "output_type": "execute_result"
    }
   ],
   "source": [
    "energyteste.columns"
   ]
  },
  {
   "cell_type": "markdown",
   "metadata": {},
   "source": [
    "<h3 style=\"font-family: 'Times New Roman'\">Save all DataSets</h3>"
   ]
  },
  {
   "cell_type": "code",
   "execution_count": 45,
   "metadata": {},
   "outputs": [],
   "source": [
    "resulting_df_21 = energy21.merge(meteo21, on='date', how='left')"
   ]
  },
  {
   "cell_type": "code",
   "execution_count": 46,
   "metadata": {},
   "outputs": [],
   "source": [
    "resulting_df_22 = energy22.merge(meteo22, on='date', how='inner')"
   ]
  },
  {
   "cell_type": "code",
   "execution_count": 47,
   "metadata": {},
   "outputs": [],
   "source": [
    "df_new = pd.read_csv(\"Ficheiros/Ficheiros_Iniciais/DewPoint.csv\")"
   ]
  },
  {
   "cell_type": "code",
   "execution_count": 48,
   "metadata": {},
   "outputs": [],
   "source": [
    "df_new_teste = pd.read_csv(\"Ficheiros/Ficheiros_Iniciais/DewPoint_teste.csv\")"
   ]
  },
  {
   "cell_type": "code",
   "execution_count": 49,
   "metadata": {},
   "outputs": [],
   "source": [
    "final = pd.concat([resulting_df_21, resulting_df_22], ignore_index=True)"
   ]
  },
  {
   "cell_type": "code",
   "execution_count": 50,
   "metadata": {},
   "outputs": [],
   "source": [
    "resulting_dew_point = final.merge(df_new, on='date', how='inner')\n",
    "resulting_dew_point.to_csv(\"Ficheiros/Ficheiros_Finais/Final.csv\", index = False)"
   ]
  },
  {
   "cell_type": "code",
   "execution_count": 51,
   "metadata": {},
   "outputs": [],
   "source": [
    "meteoteste = pd.concat([meteoteste, braga])"
   ]
  },
  {
   "cell_type": "code",
   "execution_count": 52,
   "metadata": {},
   "outputs": [],
   "source": [
    "resulting_df_23 = energyteste.merge(meteoteste, on='date', how='inner')"
   ]
  },
  {
   "cell_type": "code",
   "execution_count": 53,
   "metadata": {},
   "outputs": [],
   "source": [
    "resulting_dew_point_teste = resulting_df_23.merge(df_new_teste, on='date', how='inner')\n",
    "resulting_dew_point_teste.to_csv(\"Ficheiros/Ficheiros_Finais/Final_Teste.csv\", index = False)"
   ]
  }
 ],
 "metadata": {
  "kernelspec": {
   "display_name": "daa1",
   "language": "python",
   "name": "python3"
  },
  "language_info": {
   "codemirror_mode": {
    "name": "ipython",
    "version": 3
   },
   "file_extension": ".py",
   "mimetype": "text/x-python",
   "name": "python",
   "nbconvert_exporter": "python",
   "pygments_lexer": "ipython3",
   "version": "3.11.5"
  }
 },
 "nbformat": 4,
 "nbformat_minor": 2
}
